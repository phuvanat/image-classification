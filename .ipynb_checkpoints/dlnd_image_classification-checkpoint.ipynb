{
 "cells": [
  {
   "cell_type": "markdown",
   "metadata": {
    "collapsed": true
   },
   "source": [
    "# Image Classification\n",
    "In this project, you'll classify images from the [CIFAR-10 dataset](https://www.cs.toronto.edu/~kriz/cifar.html).  The dataset consists of airplanes, dogs, cats, and other objects. You'll preprocess the images, then train a convolutional neural network on all the samples. The images need to be normalized and the labels need to be one-hot encoded.  You'll get to apply what you learned and build a convolutional, max pooling, dropout, and fully connected layers.  At the end, you'll get to see your neural network's predictions on the sample images.\n",
    "## Get the Data\n",
    "Run the following cell to download the [CIFAR-10 dataset for python](https://www.cs.toronto.edu/~kriz/cifar-10-python.tar.gz)."
   ]
  },
  {
   "cell_type": "code",
   "execution_count": 1,
   "metadata": {},
   "outputs": [
    {
     "name": "stdout",
     "output_type": "stream",
     "text": [
      "All files found!\n"
     ]
    }
   ],
   "source": [
    "\"\"\"\n",
    "DON'T MODIFY ANYTHING IN THIS CELL THAT IS BELOW THIS LINE\n",
    "\"\"\"\n",
    "from urllib.request import urlretrieve\n",
    "from os.path import isfile, isdir\n",
    "from tqdm import tqdm\n",
    "import problem_unittests as tests\n",
    "import tarfile\n",
    "\n",
    "cifar10_dataset_folder_path = 'cifar-10-batches-py'\n",
    "\n",
    "# Use Floyd's cifar-10 dataset if present\n",
    "floyd_cifar10_location = '/cifar/cifar-10-python.tar.gz'\n",
    "if isfile(floyd_cifar10_location):\n",
    "    tar_gz_path = floyd_cifar10_location\n",
    "else:\n",
    "    tar_gz_path = 'cifar-10-python.tar.gz'\n",
    "\n",
    "class DLProgress(tqdm):\n",
    "    last_block = 0\n",
    "\n",
    "    def hook(self, block_num=1, block_size=1, total_size=None):\n",
    "        self.total = total_size\n",
    "        self.update((block_num - self.last_block) * block_size)\n",
    "        self.last_block = block_num\n",
    "\n",
    "if not isfile(tar_gz_path):\n",
    "    with DLProgress(unit='B', unit_scale=True, miniters=1, desc='CIFAR-10 Dataset') as pbar:\n",
    "        urlretrieve(\n",
    "            'https://www.cs.toronto.edu/~kriz/cifar-10-python.tar.gz',\n",
    "            tar_gz_path,\n",
    "            pbar.hook)\n",
    "\n",
    "if not isdir(cifar10_dataset_folder_path):\n",
    "    with tarfile.open(tar_gz_path) as tar:\n",
    "        tar.extractall()\n",
    "        tar.close()\n",
    "\n",
    "\n",
    "tests.test_folder_path(cifar10_dataset_folder_path)"
   ]
  },
  {
   "cell_type": "markdown",
   "metadata": {},
   "source": [
    "## Explore the Data\n",
    "The dataset is broken into batches to prevent your machine from running out of memory.  The CIFAR-10 dataset consists of 5 batches, named `data_batch_1`, `data_batch_2`, etc.. Each batch contains the labels and images that are one of the following:\n",
    "* airplane\n",
    "* automobile\n",
    "* bird\n",
    "* cat\n",
    "* deer\n",
    "* dog\n",
    "* frog\n",
    "* horse\n",
    "* ship\n",
    "* truck\n",
    "\n",
    "Understanding a dataset is part of making predictions on the data.  Play around with the code cell below by changing the `batch_id` and `sample_id`. The `batch_id` is the id for a batch (1-5). The `sample_id` is the id for a image and label pair in the batch.\n",
    "\n",
    "Ask yourself \"What are all possible labels?\", \"What is the range of values for the image data?\", \"Are the labels in order or random?\".  Answers to questions like these will help you preprocess the data and end up with better predictions."
   ]
  },
  {
   "cell_type": "code",
   "execution_count": 2,
   "metadata": {},
   "outputs": [
    {
     "name": "stdout",
     "output_type": "stream",
     "text": [
      "\n",
      "Stats of batch 1:\n",
      "Samples: 10000\n",
      "Label Counts: {0: 1005, 1: 974, 2: 1032, 3: 1016, 4: 999, 5: 937, 6: 1030, 7: 1001, 8: 1025, 9: 981}\n",
      "First 20 Labels: [6, 9, 9, 4, 1, 1, 2, 7, 8, 3, 4, 7, 7, 2, 9, 9, 9, 3, 2, 6]\n",
      "\n",
      "Example of Image 5:\n",
      "Image - Min Value: 0 Max Value: 252\n",
      "Image - Shape: (32, 32, 3)\n",
      "Label - Label Id: 1 Name: automobile\n"
     ]
    },
    {
     "data": {
      "image/png": "[encoded data removed]",
      "text/plain": [
       "<matplotlib.figure.Figure at 0x7f4bc4418630>"
      ]
     },
     "metadata": {
      "image/png": {
       "height": 250,
       "width": 253
      }
     },
     "output_type": "display_data"
    }
   ],
   "source": [
    "%matplotlib inline\n",
    "%config InlineBackend.figure_format = 'retina'\n",
    "\n",
    "import helper\n",
    "import numpy as np\n",
    "\n",
    "# Explore the dataset\n",
    "batch_id = 1\n",
    "sample_id = 5\n",
    "helper.display_stats(cifar10_dataset_folder_path, batch_id, sample_id)"
   ]
  },
  {
   "cell_type": "markdown",
   "metadata": {},
   "source": [
    "## Implement Preprocess Functions\n",
    "### Normalize\n",
    "In the cell below, implement the `normalize` function to take in image data, `x`, and return it as a normalized Numpy array. The values should be in the range of 0 to 1, inclusive.  The return object should be the same shape as `x`."
   ]
  },
  {
   "cell_type": "code",
   "execution_count": 3,
   "metadata": {},
   "outputs": [
    {
     "name": "stdout",
     "output_type": "stream",
     "text": [
      "Tests Passed\n"
     ]
    }
   ],
   "source": [
    "def normalize(x):\n",
    "    \"\"\"\n",
    "    Normalize a list of sample image data in the range of 0 to 1\n",
    "    : x: List of image data.  The image shape is (32, 32, 3)\n",
    "    : return: Numpy array of normalize data\n",
    "    \"\"\"\n",
    "    # TODO: Implement Function\n",
    "    return x / 255.0\n",
    "\n",
    "\n",
    "\"\"\"\n",
    "DON'T MODIFY ANYTHING IN THIS CELL THAT IS BELOW THIS LINE\n",
    "\"\"\"\n",
    "tests.test_normalize(normalize)"
   ]
  },
  {
   "cell_type": "markdown",
   "metadata": {},
   "source": [
    "### One-hot encode\n",
    "Just like the previous code cell, you'll be implementing a function for preprocessing.  This time, you'll implement the `one_hot_encode` function. The input, `x`, are a list of labels.  Implement the function to return the list of labels as One-Hot encoded Numpy array.  The possible values for labels are 0 to 9. The one-hot encoding function should return the same encoding for each value between each call to `one_hot_encode`.  Make sure to save the map of encodings outside the function.\n",
    "\n",
    "Hint: Don't reinvent the wheel."
   ]
  },
  {
   "cell_type": "code",
   "execution_count": 4,
   "metadata": {},
   "outputs": [
    {
     "name": "stdout",
     "output_type": "stream",
     "text": [
      "Tests Passed\n"
     ]
    }
   ],
   "source": [
    "def one_hot_encode(x):\n",
    "    \"\"\"\n",
    "    One hot encode a list of sample labels. Return a one-hot encoded vector for each label.\n",
    "    : x: List of sample Labels\n",
    "    : return: Numpy array of one-hot encoded labels\n",
    "    \"\"\"\n",
    "    # TODO: Implement Function\n",
    "    y = np.zeros((len(x), 10))\n",
    "    for i in range(len(x)):\n",
    "        y[i,x[i]] = 1\n",
    "    return y\n",
    "\n",
    "\n",
    "\"\"\"\n",
    "DON'T MODIFY ANYTHING IN THIS CELL THAT IS BELOW THIS LINE\n",
    "\"\"\"\n",
    "tests.test_one_hot_encode(one_hot_encode)"
   ]
  },
  {
   "cell_type": "markdown",
   "metadata": {},
   "source": [
    "### Randomize Data\n",
    "As you saw from exploring the data above, the order of the samples are randomized.  It doesn't hurt to randomize it again, but you don't need to for this dataset."
   ]
  },
  {
   "cell_type": "markdown",
   "metadata": {},
   "source": [
    "## Preprocess all the data and save it\n",
    "Running the code cell below will preprocess all the CIFAR-10 data and save it to file. The code below also uses 10% of the training data for validation."
   ]
  },
  {
   "cell_type": "code",
   "execution_count": 5,
   "metadata": {
    "collapsed": true
   },
   "outputs": [],
   "source": [
    "\"\"\"\n",
    "DON'T MODIFY ANYTHING IN THIS CELL\n",
    "\"\"\"\n",
    "# Preprocess Training, Validation, and Testing Data\n",
    "helper.preprocess_and_save_data(cifar10_dataset_folder_path, normalize, one_hot_encode)"
   ]
  },
  {
   "cell_type": "markdown",
   "metadata": {},
   "source": [
    "# Check Point\n",
    "This is your first checkpoint.  If you ever decide to come back to this notebook or have to restart the notebook, you can start from here.  The preprocessed data has been saved to disk."
   ]
  },
  {
   "cell_type": "code",
   "execution_count": 6,
   "metadata": {
    "collapsed": true
   },
   "outputs": [],
   "source": [
    "\"\"\"\n",
    "DON'T MODIFY ANYTHING IN THIS CELL\n",
    "\"\"\"\n",
    "import pickle\n",
    "import problem_unittests as tests\n",
    "import helper\n",
    "\n",
    "# Load the Preprocessed Validation data\n",
    "valid_features, valid_labels = pickle.load(open('preprocess_validation.p', mode='rb'))"
   ]
  },
  {
   "cell_type": "markdown",
   "metadata": {},
   "source": [
    "## Build the network\n",
    "For the neural network, you'll build each layer into a function.  Most of the code you've seen has been outside of functions. To test your code more thoroughly, we require that you put each layer in a function.  This allows us to give you better feedback and test for simple mistakes using our unittests before you submit your project.\n",
    "\n",
    ">**Note:** If you're finding it hard to dedicate enough time for this course each week, we've provided a small shortcut to this part of the project. In the next couple of problems, you'll have the option to use classes from the [TensorFlow Layers](https://www.tensorflow.org/api_docs/python/tf/layers) or [TensorFlow Layers (contrib)](https://www.tensorflow.org/api_guides/python/contrib.layers) packages to build each layer, except the layers you build in the \"Convolutional and Max Pooling Layer\" section.  TF Layers is similar to Keras's and TFLearn's abstraction to layers, so it's easy to pickup.\n",
    "\n",
    ">However, if you would like to get the most out of this course, try to solve all the problems _without_ using anything from the TF Layers packages. You **can** still use classes from other packages that happen to have the same name as ones you find in TF Layers! For example, instead of using the TF Layers version of the `conv2d` class, [tf.layers.conv2d](https://www.tensorflow.org/api_docs/python/tf/layers/conv2d), you would want to use the TF Neural Network version of `conv2d`, [tf.nn.conv2d](https://www.tensorflow.org/api_docs/python/tf/nn/conv2d). \n",
    "\n",
    "Let's begin!\n",
    "\n",
    "### Input\n",
    "The neural network needs to read the image data, one-hot encoded labels, and dropout keep probability. Implement the following functions\n",
    "* Implement `neural_net_image_input`\n",
    " * Return a [TF Placeholder](https://www.tensorflow.org/api_docs/python/tf/placeholder)\n",
    " * Set the shape using `image_shape` with batch size set to `None`.\n",
    " * Name the TensorFlow placeholder \"x\" using the TensorFlow `name` parameter in the [TF Placeholder](https://www.tensorflow.org/api_docs/python/tf/placeholder).\n",
    "* Implement `neural_net_label_input`\n",
    " * Return a [TF Placeholder](https://www.tensorflow.org/api_docs/python/tf/placeholder)\n",
    " * Set the shape using `n_classes` with batch size set to `None`.\n",
    " * Name the TensorFlow placeholder \"y\" using the TensorFlow `name` parameter in the [TF Placeholder](https://www.tensorflow.org/api_docs/python/tf/placeholder).\n",
    "* Implement `neural_net_keep_prob_input`\n",
    " * Return a [TF Placeholder](https://www.tensorflow.org/api_docs/python/tf/placeholder) for dropout keep probability.\n",
    " * Name the TensorFlow placeholder \"keep_prob\" using the TensorFlow `name` parameter in the [TF Placeholder](https://www.tensorflow.org/api_docs/python/tf/placeholder).\n",
    "\n",
    "These names will be used at the end of the project to load your saved model.\n",
    "\n",
    "Note: `None` for shapes in TensorFlow allow for a dynamic size."
   ]
  },
  {
   "cell_type": "code",
   "execution_count": 7,
   "metadata": {},
   "outputs": [
    {
     "name": "stdout",
     "output_type": "stream",
     "text": [
      "Image Input Tests Passed.\n",
      "Label Input Tests Passed.\n",
      "Keep Prob Tests Passed.\n"
     ]
    }
   ],
   "source": [
    "import tensorflow as tf\n",
    "\n",
    "def neural_net_image_input(image_shape):\n",
    "    \"\"\"\n",
    "    Return a Tensor for a batch of image input\n",
    "    : image_shape: Shape of the images\n",
    "    : return: Tensor for image input.\n",
    "    \"\"\"\n",
    "    # TODO: Implement Function\n",
    "    return tf.placeholder(tf.float32, [None] + list(image_shape), \"x\")\n",
    "\n",
    "\n",
    "def neural_net_label_input(n_classes):\n",
    "    \"\"\"\n",
    "    Return a Tensor for a batch of label input\n",
    "    : n_classes: Number of classes\n",
    "    : return: Tensor for label input.\n",
    "    \"\"\"\n",
    "    # TODO: Implement Function\n",
    "    return tf.placeholder(tf.float32, [None, n_classes], \"y\")\n",
    "\n",
    "\n",
    "def neural_net_keep_prob_input():\n",
    "    \"\"\"\n",
    "    Return a Tensor for keep probability\n",
    "    : return: Tensor for keep probability.\n",
    "    \"\"\"\n",
    "    # TODO: Implement Function  \n",
    "    return tf.placeholder(tf.float32, None, \"keep_prob\")\n",
    "\n",
    "\n",
    "\"\"\"\n",
    "DON'T MODIFY ANYTHING IN THIS CELL THAT IS BELOW THIS LINE\n",
    "\"\"\"\n",
    "tf.reset_default_graph()\n",
    "tests.test_nn_image_inputs(neural_net_image_input)\n",
    "tests.test_nn_label_inputs(neural_net_label_input)\n",
    "tests.test_nn_keep_prob_inputs(neural_net_keep_prob_input)"
   ]
  },
  {
   "cell_type": "markdown",
   "metadata": {},
   "source": [
    "### Convolution and Max Pooling Layer\n",
    "Convolution layers have a lot of success with images. For this code cell, you should implement the function `conv2d_maxpool` to apply convolution then max pooling:\n",
    "* Create the weight and bias using `conv_ksize`, `conv_num_outputs` and the shape of `x_tensor`.\n",
    "* Apply a convolution to `x_tensor` using weight and `conv_strides`.\n",
    " * We recommend you use same padding, but you're welcome to use any padding.\n",
    "* Add bias\n",
    "* Add a nonlinear activation to the convolution.\n",
    "* Apply Max Pooling using `pool_ksize` and `pool_strides`.\n",
    " * We recommend you use same padding, but you're welcome to use any padding.\n",
    "\n",
    "**Note:** You **can't** use [TensorFlow Layers](https://www.tensorflow.org/api_docs/python/tf/layers) or [TensorFlow Layers (contrib)](https://www.tensorflow.org/api_guides/python/contrib.layers) for **this** layer, but you can still use TensorFlow's [Neural Network](https://www.tensorflow.org/api_docs/python/tf/nn) package. You may still use the shortcut option for all the **other** layers."
   ]
  },
  {
   "cell_type": "code",
   "execution_count": 8,
   "metadata": {},
   "outputs": [
    {
     "name": "stdout",
     "output_type": "stream",
     "text": [
      "Tests Passed\n"
     ]
    }
   ],
   "source": [
    "def conv2d_maxpool(x_tensor, conv_num_outputs, conv_ksize, conv_strides, pool_ksize, pool_strides):\n",
    "    \"\"\"\n",
    "    Apply convolution then max pooling to x_tensor\n",
    "    :param x_tensor: TensorFlow Tensor\n",
    "    :param conv_num_outputs: Number of outputs for the convolutional layer\n",
    "    :param conv_ksize: kernal size 2-D Tuple for the convolutional layer\n",
    "    :param conv_strides: Stride 2-D Tuple for convolution\n",
    "    :param pool_ksize: kernal size 2-D Tuple for pool\n",
    "    :param pool_strides: Stride 2-D Tuple for pool\n",
    "    : return: A tensor that represents convolution and max pooling of x_tensor\n",
    "    \"\"\"\n",
    "    # TODO: Implement Function\n",
    "    x_tensor_dim = x_tensor.get_shape().as_list()\n",
    "    x_tensor_depth = x_tensor_dim[-1]\n",
    "    filter_weights = tf.Variable(tf.truncated_normal((conv_ksize[0],conv_ksize[1], x_tensor_depth, conv_num_outputs),mean=0.0,stddev=0.1))\n",
    "    filter_bias = tf.Variable(tf.zeros(conv_num_outputs))\n",
    "    padding = 'SAME'\n",
    "    conv_strides = [1,conv_strides[0],conv_strides[1],1]\n",
    "    \n",
    "    conv_layer = tf.nn.conv2d(x_tensor, filter_weights, conv_strides, padding)\n",
    "    conv_layer = tf.nn.bias_add(conv_layer, filter_bias)   \n",
    "    conv_layer = tf.nn.relu(conv_layer)\n",
    "   \n",
    "    pool_ksize = [1,pool_ksize[0],pool_ksize[1],1]\n",
    "    pool_strides = [1,pool_strides[0],pool_strides[1],1]\n",
    "    conv_layer = tf.nn.max_pool(conv_layer,ksize=pool_ksize,strides=pool_strides,padding=padding)\n",
    "    \n",
    "    return conv_layer \n",
    "\n",
    "\n",
    "\"\"\"\n",
    "DON'T MODIFY ANYTHING IN THIS CELL THAT IS BELOW THIS LINE\n",
    "\"\"\"\n",
    "tests.test_con_pool(conv2d_maxpool)"
   ]
  },
  {
   "cell_type": "markdown",
   "metadata": {},
   "source": [
    "### Flatten Layer\n",
    "Implement the `flatten` function to change the dimension of `x_tensor` from a 4-D tensor to a 2-D tensor.  The output should be the shape (*Batch Size*, *Flattened Image Size*). Shortcut option: you can use classes from the [TensorFlow Layers](https://www.tensorflow.org/api_docs/python/tf/layers) or [TensorFlow Layers (contrib)](https://www.tensorflow.org/api_guides/python/contrib.layers) packages for this layer. For more of a challenge, only use other TensorFlow packages."
   ]
  },
  {
   "cell_type": "code",
   "execution_count": 9,
   "metadata": {},
   "outputs": [
    {
     "name": "stdout",
     "output_type": "stream",
     "text": [
      "Tests Passed\n"
     ]
    }
   ],
   "source": [
    "from numpy import prod\n",
    "def flatten(x_tensor):\n",
    "    \"\"\"\n",
    "    Flatten x_tensor to (Batch Size, Flattened Image Size)\n",
    "    : x_tensor: A tensor of size (Batch Size, ...), where ... are the image dimensions.\n",
    "    : return: A tensor of size (Batch Size, Flattened Image Size).\n",
    "    \"\"\"\n",
    "    # TODO: Implement Function\n",
    "    return tf.contrib.layers.flatten(x_tensor)\n",
    "\n",
    "\n",
    "\"\"\"\n",
    "DON'T MODIFY ANYTHING IN THIS CELL THAT IS BELOW THIS LINE\n",
    "\"\"\"\n",
    "tests.test_flatten(flatten)"
   ]
  },
  {
   "cell_type": "markdown",
   "metadata": {},
   "source": [
    "### Fully-Connected Layer\n",
    "Implement the `fully_conn` function to apply a fully connected layer to `x_tensor` with the shape (*Batch Size*, *num_outputs*). Shortcut option: you can use classes from the [TensorFlow Layers](https://www.tensorflow.org/api_docs/python/tf/layers) or [TensorFlow Layers (contrib)](https://www.tensorflow.org/api_guides/python/contrib.layers) packages for this layer. For more of a challenge, only use other TensorFlow packages."
   ]
  },
  {
   "cell_type": "code",
   "execution_count": 10,
   "metadata": {},
   "outputs": [
    {
     "name": "stdout",
     "output_type": "stream",
     "text": [
      "Tests Passed\n"
     ]
    }
   ],
   "source": [
    "def fully_conn(x_tensor, num_outputs):\n",
    "    \"\"\"\n",
    "    Apply a fully connected layer to x_tensor using weight and bias\n",
    "    : x_tensor: A 2-D tensor where the first dimension is batch size.\n",
    "    : num_outputs: The number of output that the new tensor should be.\n",
    "    : return: A 2-D tensor where the second dimension is num_outputs.\n",
    "    \"\"\"\n",
    "    # TODO: Implement Function\n",
    "    return tf.contrib.layers.fully_connected(x_tensor, num_outputs)\n",
    "\n",
    "\n",
    "\"\"\"\n",
    "DON'T MODIFY ANYTHING IN THIS CELL THAT IS BELOW THIS LINE\n",
    "\"\"\"\n",
    "tests.test_fully_conn(fully_conn)"
   ]
  },
  {
   "cell_type": "markdown",
   "metadata": {},
   "source": [
    "### Output Layer\n",
    "Implement the `output` function to apply a fully connected layer to `x_tensor` with the shape (*Batch Size*, *num_outputs*). Shortcut option: you can use classes from the [TensorFlow Layers](https://www.tensorflow.org/api_docs/python/tf/layers) or [TensorFlow Layers (contrib)](https://www.tensorflow.org/api_guides/python/contrib.layers) packages for this layer. For more of a challenge, only use other TensorFlow packages.\n",
    "\n",
    "**Note:** Activation, softmax, or cross entropy should **not** be applied to this."
   ]
  },
  {
   "cell_type": "code",
   "execution_count": 11,
   "metadata": {},
   "outputs": [
    {
     "name": "stdout",
     "output_type": "stream",
     "text": [
      "Tests Passed\n"
     ]
    }
   ],
   "source": [
    "def output(x_tensor, num_outputs):\n",
    "    \"\"\"\n",
    "    Apply a output layer to x_tensor using weight and bias\n",
    "    : x_tensor: A 2-D tensor where the first dimension is batch size.\n",
    "    : num_outputs: The number of output that the new tensor should be.\n",
    "    : return: A 2-D tensor where the second dimension is num_outputs.\n",
    "    \"\"\"\n",
    "    # TODO: Implement Function\n",
    "    x_tensor_dim = x_tensor.get_shape().as_list()\n",
    "    x_tensor_depth = x_tensor_dim[-1]\n",
    "    weight = tf.Variable(tf.truncated_normal((x_tensor_depth,num_outputs),mean=0.0,stddev=0.1))\n",
    "    bias = tf.Variable(tf.zeros(num_outputs))\n",
    "    return tf.add(tf.matmul(x_tensor, weight), bias)\n",
    "\n",
    "\n",
    "\"\"\"\n",
    "DON'T MODIFY ANYTHING IN THIS CELL THAT IS BELOW THIS LINE\n",
    "\"\"\"\n",
    "tests.test_output(output)"
   ]
  },
  {
   "cell_type": "markdown",
   "metadata": {},
   "source": [
    "### Create Convolutional Model\n",
    "Implement the function `conv_net` to create a convolutional neural network model. The function takes in a batch of images, `x`, and outputs logits.  Use the layers you created above to create this model:\n",
    "\n",
    "* Apply 1, 2, or 3 Convolution and Max Pool layers\n",
    "* Apply a Flatten Layer\n",
    "* Apply 1, 2, or 3 Fully Connected Layers\n",
    "* Apply an Output Layer\n",
    "* Return the output\n",
    "* Apply [TensorFlow's Dropout](https://www.tensorflow.org/api_docs/python/tf/nn/dropout) to one or more layers in the model using `keep_prob`. "
   ]
  },
  {
   "cell_type": "code",
   "execution_count": 12,
   "metadata": {},
   "outputs": [
    {
     "name": "stdout",
     "output_type": "stream",
     "text": [
      "Neural Network Built!\n"
     ]
    }
   ],
   "source": [
    "def conv_net(x, keep_prob):\n",
    "    \"\"\"\n",
    "    Create a convolutional neural network model\n",
    "    : x: Placeholder tensor that holds image data.\n",
    "    : keep_prob: Placeholder tensor that hold dropout keep probability.\n",
    "    : return: Tensor that represents logits\n",
    "    \"\"\"\n",
    "    # TODO: Apply 1, 2, or 3 Convolution and Max Pool layers\n",
    "    #    Play around with different number of outputs, kernel size and stride\n",
    "    # Function Definition from Above:\n",
    "    #    conv2d_maxpool(x_tensor, conv_num_outputs, conv_ksize, conv_strides, pool_ksize, pool_strides)\n",
    "    conv = conv2d_maxpool(x, conv_num_outputs=32, conv_ksize=(2,2), conv_strides=(1,1), pool_ksize=(4,4), pool_strides=(1,1))\n",
    "    conv = tf.nn.dropout(conv, keep_prob)\n",
    "    \n",
    "    # TODO: Apply a Flatten Layer\n",
    "    # Function Definition from Above:\n",
    "    #   flatten(x_tensor)\n",
    "    conv = flatten(conv)\n",
    "\n",
    "    # TODO: Apply 1, 2, or 3 Fully Connected Layers\n",
    "    #    Play around with different number of outputs\n",
    "    # Function Definition from Above:\n",
    "    #   fully_conn(x_tensor, num_outputs)\n",
    "    fc = fully_conn(conv,512)\n",
    "    fc = tf.nn.dropout(fc, keep_prob)\n",
    "    \n",
    "    # TODO: Apply an Output Layer\n",
    "    #    Set this to the number of classes\n",
    "    # Function Definition from Above:\n",
    "    #   output(x_tensor, num_outputs)\n",
    "    model = output(fc,10)\n",
    "    \n",
    "    # TODO: return output\n",
    "    return model\n",
    "\n",
    "\n",
    "\"\"\"\n",
    "DON'T MODIFY ANYTHING IN THIS CELL THAT IS BELOW THIS LINE\n",
    "\"\"\"\n",
    "\n",
    "##############################\n",
    "## Build the Neural Network ##\n",
    "##############################\n",
    "\n",
    "# Remove previous weights, bias, inputs, etc..\n",
    "tf.reset_default_graph()\n",
    "\n",
    "# Inputs\n",
    "x = neural_net_image_input((32, 32, 3))\n",
    "y = neural_net_label_input(10)\n",
    "keep_prob = neural_net_keep_prob_input()\n",
    "\n",
    "# Model\n",
    "logits = conv_net(x, keep_prob)\n",
    "\n",
    "# Name logits Tensor, so that is can be loaded from disk after training\n",
    "logits = tf.identity(logits, name='logits')\n",
    "\n",
    "# Loss and Optimizer\n",
    "cost = tf.reduce_mean(tf.nn.softmax_cross_entropy_with_logits(logits=logits, labels=y))\n",
    "optimizer = tf.train.AdamOptimizer().minimize(cost)\n",
    "\n",
    "# Accuracy\n",
    "correct_pred = tf.equal(tf.argmax(logits, 1), tf.argmax(y, 1))\n",
    "accuracy = tf.reduce_mean(tf.cast(correct_pred, tf.float32), name='accuracy')\n",
    "\n",
    "tests.test_conv_net(conv_net)"
   ]
  },
  {
   "cell_type": "markdown",
   "metadata": {},
   "source": [
    "## Train the Neural Network\n",
    "### Single Optimization\n",
    "Implement the function `train_neural_network` to do a single optimization.  The optimization should use `optimizer` to optimize in `session` with a `feed_dict` of the following:\n",
    "* `x` for image input\n",
    "* `y` for labels\n",
    "* `keep_prob` for keep probability for dropout\n",
    "\n",
    "This function will be called for each batch, so `tf.global_variables_initializer()` has already been called.\n",
    "\n",
    "Note: Nothing needs to be returned. This function is only optimizing the neural network."
   ]
  },
  {
   "cell_type": "code",
   "execution_count": 13,
   "metadata": {},
   "outputs": [
    {
     "name": "stdout",
     "output_type": "stream",
     "text": [
      "Tests Passed\n"
     ]
    }
   ],
   "source": [
    "def train_neural_network(session, optimizer, keep_probability, feature_batch, label_batch):\n",
    "    \"\"\"\n",
    "    Optimize the session on a batch of images and labels\n",
    "    : session: Current TensorFlow session\n",
    "    : optimizer: TensorFlow optimizer function\n",
    "    : keep_probability: keep probability\n",
    "    : feature_batch: Batch of Numpy image data\n",
    "    : label_batch: Batch of Numpy label data\n",
    "    \"\"\"\n",
    "    # TODO: Implement Function\n",
    "    session.run(optimizer, feed_dict={x:feature_batch, y:label_batch, keep_prob:keep_probability})\n",
    "\n",
    "\n",
    "\"\"\"\n",
    "DON'T MODIFY ANYTHING IN THIS CELL THAT IS BELOW THIS LINE\n",
    "\"\"\"\n",
    "tests.test_train_nn(train_neural_network)"
   ]
  },
  {
   "cell_type": "markdown",
   "metadata": {},
   "source": [
    "### Show Stats\n",
    "Implement the function `print_stats` to print loss and validation accuracy.  Use the global variables `valid_features` and `valid_labels` to calculate validation accuracy.  Use a keep probability of `1.0` to calculate the loss and validation accuracy."
   ]
  },
  {
   "cell_type": "code",
   "execution_count": 14,
   "metadata": {
    "collapsed": true
   },
   "outputs": [],
   "source": [
    "def print_stats(session, feature_batch, label_batch, cost, accuracy):\n",
    "    \"\"\"\n",
    "    Print information about loss and validation accuracy\n",
    "    : session: Current TensorFlow session\n",
    "    : feature_batch: Batch of Numpy image data\n",
    "    : label_batch: Batch of Numpy label data\n",
    "    : cost: TensorFlow cost function\n",
    "    : accuracy: TensorFlow accuracy function\n",
    "    \"\"\"\n",
    "    # TODO: Implement Function\n",
    "    loss = session.run(cost, feed_dict={\n",
    "                x: feature_batch,\n",
    "                y: label_batch,\n",
    "                keep_prob: 1.})\n",
    "    valid_acc = session.run(accuracy, feed_dict={\n",
    "                x: valid_features,\n",
    "                y: valid_labels,\n",
    "                keep_prob: 1.})\n",
    "\n",
    "    print('Loss: {:>10.4f} Validation Accuracy: {:.6f}'.format(\n",
    "                loss,\n",
    "                valid_acc))"
   ]
  },
  {
   "cell_type": "markdown",
   "metadata": {},
   "source": [
    "### Hyperparameters\n",
    "Tune the following parameters:\n",
    "* Set `epochs` to the number of iterations until the network stops learning or start overfitting\n",
    "* Set `batch_size` to the highest number that your machine has memory for.  Most people set them to common sizes of memory:\n",
    " * 64\n",
    " * 128\n",
    " * 256\n",
    " * ...\n",
    "* Set `keep_probability` to the probability of keeping a node using dropout"
   ]
  },
  {
   "cell_type": "code",
   "execution_count": 15,
   "metadata": {
    "collapsed": true
   },
   "outputs": [],
   "source": [
    "# TODO: Tune Parameters\n",
    "epochs = 50\n",
    "batch_size = 128\n",
    "keep_probability = 0.5"
   ]
  },
  {
   "cell_type": "markdown",
   "metadata": {},
   "source": [
    "### Train on a Single CIFAR-10 Batch\n",
    "Instead of training the neural network on all the CIFAR-10 batches of data, let's use a single batch. This should save time while you iterate on the model to get a better accuracy.  Once the final validation accuracy is 50% or greater, run the model on all the data in the next section."
   ]
  },
  {
   "cell_type": "code",
   "execution_count": 16,
   "metadata": {},
   "outputs": [
    {
     "name": "stdout",
     "output_type": "stream",
     "text": [
      "Checking the Training on a Single Batch...\n",
      "Epoch  1, CIFAR-10 Batch 1:  Loss:     2.0992 Validation Accuracy: 0.292000\n",
      "Epoch  2, CIFAR-10 Batch 1:  Loss:     1.8709 Validation Accuracy: 0.395400\n",
      "Epoch  3, CIFAR-10 Batch 1:  Loss:     1.7757 Validation Accuracy: 0.441000\n",
      "Epoch  4, CIFAR-10 Batch 1:  Loss:     1.5816 Validation Accuracy: 0.449000\n",
      "Epoch  5, CIFAR-10 Batch 1:  Loss:     1.4465 Validation Accuracy: 0.498600\n",
      "Epoch  6, CIFAR-10 Batch 1:  Loss:     1.4330 Validation Accuracy: 0.492800\n",
      "Epoch  7, CIFAR-10 Batch 1:  Loss:     1.3691 Validation Accuracy: 0.503400\n",
      "Epoch  8, CIFAR-10 Batch 1:  Loss:     1.2716 Validation Accuracy: 0.519600\n",
      "Epoch  9, CIFAR-10 Batch 1:  Loss:     1.1754 Validation Accuracy: 0.528200\n",
      "Epoch 10, CIFAR-10 Batch 1:  Loss:     1.1433 Validation Accuracy: 0.532400\n",
      "Epoch 11, CIFAR-10 Batch 1:  Loss:     1.1104 Validation Accuracy: 0.532400\n",
      "Epoch 12, CIFAR-10 Batch 1:  Loss:     1.0092 Validation Accuracy: 0.536200\n",
      "Epoch 13, CIFAR-10 Batch 1:  Loss:     0.9965 Validation Accuracy: 0.548000\n",
      "Epoch 14, CIFAR-10 Batch 1:  Loss:     0.9444 Validation Accuracy: 0.558600\n",
      "Epoch 15, CIFAR-10 Batch 1:  Loss:     0.9277 Validation Accuracy: 0.552600\n",
      "Epoch 16, CIFAR-10 Batch 1:  Loss:     0.8860 Validation Accuracy: 0.550400\n",
      "Epoch 17, CIFAR-10 Batch 1:  Loss:     0.8887 Validation Accuracy: 0.554800\n",
      "Epoch 18, CIFAR-10 Batch 1:  Loss:     0.8518 Validation Accuracy: 0.566800\n",
      "Epoch 19, CIFAR-10 Batch 1:  Loss:     0.7882 Validation Accuracy: 0.562800\n",
      "Epoch 20, CIFAR-10 Batch 1:  Loss:     0.7458 Validation Accuracy: 0.561600\n",
      "Epoch 21, CIFAR-10 Batch 1:  Loss:     0.7583 Validation Accuracy: 0.568400\n",
      "Epoch 22, CIFAR-10 Batch 1:  Loss:     0.7227 Validation Accuracy: 0.561400\n",
      "Epoch 23, CIFAR-10 Batch 1:  Loss:     0.6943 Validation Accuracy: 0.563200\n",
      "Epoch 24, CIFAR-10 Batch 1:  Loss:     0.7064 Validation Accuracy: 0.577600\n",
      "Epoch 25, CIFAR-10 Batch 1:  Loss:     0.6605 Validation Accuracy: 0.575000\n",
      "Epoch 26, CIFAR-10 Batch 1:  Loss:     0.6538 Validation Accuracy: 0.566800\n",
      "Epoch 27, CIFAR-10 Batch 1:  Loss:     0.5981 Validation Accuracy: 0.582400\n",
      "Epoch 28, CIFAR-10 Batch 1:  Loss:     0.5577 Validation Accuracy: 0.582400\n",
      "Epoch 29, CIFAR-10 Batch 1:  Loss:     0.5984 Validation Accuracy: 0.578800\n",
      "Epoch 30, CIFAR-10 Batch 1:  Loss:     0.5248 Validation Accuracy: 0.589200\n",
      "Epoch 31, CIFAR-10 Batch 1:  Loss:     0.5373 Validation Accuracy: 0.583000\n",
      "Epoch 32, CIFAR-10 Batch 1:  Loss:     0.5248 Validation Accuracy: 0.587200\n",
      "Epoch 33, CIFAR-10 Batch 1:  Loss:     0.5033 Validation Accuracy: 0.587800\n",
      "Epoch 34, CIFAR-10 Batch 1:  Loss:     0.4822 Validation Accuracy: 0.592200\n",
      "Epoch 35, CIFAR-10 Batch 1:  Loss:     0.4752 Validation Accuracy: 0.586000\n",
      "Epoch 36, CIFAR-10 Batch 1:  Loss:     0.4924 Validation Accuracy: 0.584800\n",
      "Epoch 37, CIFAR-10 Batch 1:  Loss:     0.4446 Validation Accuracy: 0.583400\n",
      "Epoch 38, CIFAR-10 Batch 1:  Loss:     0.4297 Validation Accuracy: 0.586200\n",
      "Epoch 39, CIFAR-10 Batch 1:  Loss:     0.4172 Validation Accuracy: 0.588200\n",
      "Epoch 40, CIFAR-10 Batch 1:  Loss:     0.4159 Validation Accuracy: 0.576600\n",
      "Epoch 41, CIFAR-10 Batch 1:  Loss:     0.3909 Validation Accuracy: 0.594200\n",
      "Epoch 42, CIFAR-10 Batch 1:  Loss:     0.4037 Validation Accuracy: 0.582000\n",
      "Epoch 43, CIFAR-10 Batch 1:  Loss:     0.4193 Validation Accuracy: 0.583800\n",
      "Epoch 44, CIFAR-10 Batch 1:  Loss:     0.3669 Validation Accuracy: 0.583200\n",
      "Epoch 45, CIFAR-10 Batch 1:  Loss:     0.3442 Validation Accuracy: 0.587000\n",
      "Epoch 46, CIFAR-10 Batch 1:  Loss:     0.3658 Validation Accuracy: 0.582400\n",
      "Epoch 47, CIFAR-10 Batch 1:  Loss:     0.3446 Validation Accuracy: 0.586400\n",
      "Epoch 48, CIFAR-10 Batch 1:  Loss:     0.3499 Validation Accuracy: 0.585000\n",
      "Epoch 49, CIFAR-10 Batch 1:  Loss:     0.3066 Validation Accuracy: 0.588600\n",
      "Epoch 50, CIFAR-10 Batch 1:  Loss:     0.3200 Validation Accuracy: 0.584800\n"
     ]
    }
   ],
   "source": [
    "\"\"\"\n",
    "DON'T MODIFY ANYTHING IN THIS CELL\n",
    "\"\"\"\n",
    "print('Checking the Training on a Single Batch...')\n",
    "with tf.Session() as sess:\n",
    "    # Initializing the variables\n",
    "    sess.run(tf.global_variables_initializer())\n",
    "    \n",
    "    # Training cycle\n",
    "    for epoch in range(epochs):\n",
    "        batch_i = 1\n",
    "        for batch_features, batch_labels in helper.load_preprocess_training_batch(batch_i, batch_size):\n",
    "            train_neural_network(sess, optimizer, keep_probability, batch_features, batch_labels)\n",
    "        print('Epoch {:>2}, CIFAR-10 Batch {}:  '.format(epoch + 1, batch_i), end='')\n",
    "        print_stats(sess, batch_features, batch_labels, cost, accuracy)"
   ]
  },
  {
   "cell_type": "markdown",
   "metadata": {},
   "source": [
    "### Fully Train the Model\n",
    "Now that you got a good accuracy with a single CIFAR-10 batch, try it with all five batches."
   ]
  },
  {
   "cell_type": "code",
   "execution_count": 17,
   "metadata": {},
   "outputs": [
    {
     "name": "stdout",
     "output_type": "stream",
     "text": [
      "Training...\n",
      "Epoch  1, CIFAR-10 Batch 1:  Loss:     2.1541 Validation Accuracy: 0.231000\n",
      "Epoch  1, CIFAR-10 Batch 2:  Loss:     1.8434 Validation Accuracy: 0.357200\n",
      "Epoch  1, CIFAR-10 Batch 3:  Loss:     1.6154 Validation Accuracy: 0.422400\n",
      "Epoch  1, CIFAR-10 Batch 4:  Loss:     1.6579 Validation Accuracy: 0.451600\n",
      "Epoch  1, CIFAR-10 Batch 5:  Loss:     1.6537 Validation Accuracy: 0.464000\n",
      "Epoch  2, CIFAR-10 Batch 1:  Loss:     1.6388 Validation Accuracy: 0.486800\n",
      "Epoch  2, CIFAR-10 Batch 2:  Loss:     1.5355 Validation Accuracy: 0.499000\n",
      "Epoch  2, CIFAR-10 Batch 3:  Loss:     1.3192 Validation Accuracy: 0.484400\n",
      "Epoch  2, CIFAR-10 Batch 4:  Loss:     1.4246 Validation Accuracy: 0.497400\n",
      "Epoch  2, CIFAR-10 Batch 5:  Loss:     1.4499 Validation Accuracy: 0.506800\n",
      "Epoch  3, CIFAR-10 Batch 1:  Loss:     1.5124 Validation Accuracy: 0.516400\n",
      "Epoch  3, CIFAR-10 Batch 2:  Loss:     1.3397 Validation Accuracy: 0.535000\n",
      "Epoch  3, CIFAR-10 Batch 3:  Loss:     1.1819 Validation Accuracy: 0.512000\n",
      "Epoch  3, CIFAR-10 Batch 4:  Loss:     1.2775 Validation Accuracy: 0.539000\n",
      "Epoch  3, CIFAR-10 Batch 5:  Loss:     1.3495 Validation Accuracy: 0.529600\n",
      "Epoch  4, CIFAR-10 Batch 1:  Loss:     1.3680 Validation Accuracy: 0.548000\n",
      "Epoch  4, CIFAR-10 Batch 2:  Loss:     1.2128 Validation Accuracy: 0.553000\n",
      "Epoch  4, CIFAR-10 Batch 3:  Loss:     1.0555 Validation Accuracy: 0.543400\n",
      "Epoch  4, CIFAR-10 Batch 4:  Loss:     1.1702 Validation Accuracy: 0.559200\n",
      "Epoch  4, CIFAR-10 Batch 5:  Loss:     1.3127 Validation Accuracy: 0.536000\n",
      "Epoch  5, CIFAR-10 Batch 1:  Loss:     1.2536 Validation Accuracy: 0.563200\n",
      "Epoch  5, CIFAR-10 Batch 2:  Loss:     1.1659 Validation Accuracy: 0.560200\n",
      "Epoch  5, CIFAR-10 Batch 3:  Loss:     1.0035 Validation Accuracy: 0.562400\n",
      "Epoch  5, CIFAR-10 Batch 4:  Loss:     1.1285 Validation Accuracy: 0.565800\n",
      "Epoch  5, CIFAR-10 Batch 5:  Loss:     1.2111 Validation Accuracy: 0.572400\n",
      "Epoch  6, CIFAR-10 Batch 1:  Loss:     1.1979 Validation Accuracy: 0.575600\n",
      "Epoch  6, CIFAR-10 Batch 2:  Loss:     1.0818 Validation Accuracy: 0.579800\n",
      "Epoch  6, CIFAR-10 Batch 3:  Loss:     0.9992 Validation Accuracy: 0.564000\n",
      "Epoch  6, CIFAR-10 Batch 4:  Loss:     1.0566 Validation Accuracy: 0.580000\n",
      "Epoch  6, CIFAR-10 Batch 5:  Loss:     1.0975 Validation Accuracy: 0.554400\n",
      "Epoch  7, CIFAR-10 Batch 1:  Loss:     1.2056 Validation Accuracy: 0.581200\n",
      "Epoch  7, CIFAR-10 Batch 2:  Loss:     1.0488 Validation Accuracy: 0.581600\n",
      "Epoch  7, CIFAR-10 Batch 3:  Loss:     1.0206 Validation Accuracy: 0.562200\n",
      "Epoch  7, CIFAR-10 Batch 4:  Loss:     1.0267 Validation Accuracy: 0.581200\n",
      "Epoch  7, CIFAR-10 Batch 5:  Loss:     1.0281 Validation Accuracy: 0.575200\n",
      "Epoch  8, CIFAR-10 Batch 1:  Loss:     1.1785 Validation Accuracy: 0.573200\n",
      "Epoch  8, CIFAR-10 Batch 2:  Loss:     0.9882 Validation Accuracy: 0.592400\n",
      "Epoch  8, CIFAR-10 Batch 3:  Loss:     0.9051 Validation Accuracy: 0.585000\n",
      "Epoch  8, CIFAR-10 Batch 4:  Loss:     0.9690 Validation Accuracy: 0.587600\n",
      "Epoch  8, CIFAR-10 Batch 5:  Loss:     1.0138 Validation Accuracy: 0.580600\n",
      "Epoch  9, CIFAR-10 Batch 1:  Loss:     1.1071 Validation Accuracy: 0.594000\n",
      "Epoch  9, CIFAR-10 Batch 2:  Loss:     0.9367 Validation Accuracy: 0.589000\n",
      "Epoch  9, CIFAR-10 Batch 3:  Loss:     0.9303 Validation Accuracy: 0.566400\n",
      "Epoch  9, CIFAR-10 Batch 4:  Loss:     0.9330 Validation Accuracy: 0.604200\n",
      "Epoch  9, CIFAR-10 Batch 5:  Loss:     0.9815 Validation Accuracy: 0.584800\n",
      "Epoch 10, CIFAR-10 Batch 1:  Loss:     1.0657 Validation Accuracy: 0.586000\n",
      "Epoch 10, CIFAR-10 Batch 2:  Loss:     0.8940 Validation Accuracy: 0.592200\n",
      "Epoch 10, CIFAR-10 Batch 3:  Loss:     0.9037 Validation Accuracy: 0.590800\n",
      "Epoch 10, CIFAR-10 Batch 4:  Loss:     0.9274 Validation Accuracy: 0.592600\n",
      "Epoch 10, CIFAR-10 Batch 5:  Loss:     0.9472 Validation Accuracy: 0.587000\n",
      "Epoch 11, CIFAR-10 Batch 1:  Loss:     1.0393 Validation Accuracy: 0.596800\n",
      "Epoch 11, CIFAR-10 Batch 2:  Loss:     0.9121 Validation Accuracy: 0.597200\n",
      "Epoch 11, CIFAR-10 Batch 3:  Loss:     0.8780 Validation Accuracy: 0.583800\n",
      "Epoch 11, CIFAR-10 Batch 4:  Loss:     0.8899 Validation Accuracy: 0.599000\n",
      "Epoch 11, CIFAR-10 Batch 5:  Loss:     0.9441 Validation Accuracy: 0.603200\n",
      "Epoch 12, CIFAR-10 Batch 1:  Loss:     1.0598 Validation Accuracy: 0.591800\n",
      "Epoch 12, CIFAR-10 Batch 2:  Loss:     0.8244 Validation Accuracy: 0.596800\n",
      "Epoch 12, CIFAR-10 Batch 3:  Loss:     0.8768 Validation Accuracy: 0.595600\n",
      "Epoch 12, CIFAR-10 Batch 4:  Loss:     0.8619 Validation Accuracy: 0.609200\n",
      "Epoch 12, CIFAR-10 Batch 5:  Loss:     0.8950 Validation Accuracy: 0.598400\n",
      "Epoch 13, CIFAR-10 Batch 1:  Loss:     1.0359 Validation Accuracy: 0.602400\n",
      "Epoch 13, CIFAR-10 Batch 2:  Loss:     0.8258 Validation Accuracy: 0.601400\n",
      "Epoch 13, CIFAR-10 Batch 3:  Loss:     0.8650 Validation Accuracy: 0.591200\n",
      "Epoch 13, CIFAR-10 Batch 4:  Loss:     0.8920 Validation Accuracy: 0.598200\n",
      "Epoch 13, CIFAR-10 Batch 5:  Loss:     0.8894 Validation Accuracy: 0.599200\n",
      "Epoch 14, CIFAR-10 Batch 1:  Loss:     0.9778 Validation Accuracy: 0.600600\n",
      "Epoch 14, CIFAR-10 Batch 2:  Loss:     0.8389 Validation Accuracy: 0.601200\n",
      "Epoch 14, CIFAR-10 Batch 3:  Loss:     0.7732 Validation Accuracy: 0.605200\n",
      "Epoch 14, CIFAR-10 Batch 4:  Loss:     0.8464 Validation Accuracy: 0.604000\n",
      "Epoch 14, CIFAR-10 Batch 5:  Loss:     0.8301 Validation Accuracy: 0.599000\n",
      "Epoch 15, CIFAR-10 Batch 1:  Loss:     0.9304 Validation Accuracy: 0.604800\n",
      "Epoch 15, CIFAR-10 Batch 2:  Loss:     0.7535 Validation Accuracy: 0.603000\n",
      "Epoch 15, CIFAR-10 Batch 3:  Loss:     0.7729 Validation Accuracy: 0.602600\n",
      "Epoch 15, CIFAR-10 Batch 4:  Loss:     0.8553 Validation Accuracy: 0.601000\n",
      "Epoch 15, CIFAR-10 Batch 5:  Loss:     0.8330 Validation Accuracy: 0.604200\n",
      "Epoch 16, CIFAR-10 Batch 1:  Loss:     0.9432 Validation Accuracy: 0.611400\n",
      "Epoch 16, CIFAR-10 Batch 2:  Loss:     0.7340 Validation Accuracy: 0.612200\n",
      "Epoch 16, CIFAR-10 Batch 3:  Loss:     0.7857 Validation Accuracy: 0.593600\n",
      "Epoch 16, CIFAR-10 Batch 4:  Loss:     0.8321 Validation Accuracy: 0.604600\n",
      "Epoch 16, CIFAR-10 Batch 5:  Loss:     0.7879 Validation Accuracy: 0.614800\n",
      "Epoch 17, CIFAR-10 Batch 1:  Loss:     0.9272 Validation Accuracy: 0.608800\n",
      "Epoch 17, CIFAR-10 Batch 2:  Loss:     0.7307 Validation Accuracy: 0.612600\n",
      "Epoch 17, CIFAR-10 Batch 3:  Loss:     0.7535 Validation Accuracy: 0.602200\n",
      "Epoch 17, CIFAR-10 Batch 4:  Loss:     0.8173 Validation Accuracy: 0.605600\n",
      "Epoch 17, CIFAR-10 Batch 5:  Loss:     0.8314 Validation Accuracy: 0.601000\n",
      "Epoch 18, CIFAR-10 Batch 1:  Loss:     0.9544 Validation Accuracy: 0.612400\n",
      "Epoch 18, CIFAR-10 Batch 2:  Loss:     0.7330 Validation Accuracy: 0.605000\n",
      "Epoch 18, CIFAR-10 Batch 3:  Loss:     0.7758 Validation Accuracy: 0.599400\n",
      "Epoch 18, CIFAR-10 Batch 4:  Loss:     0.8296 Validation Accuracy: 0.600600\n",
      "Epoch 18, CIFAR-10 Batch 5:  Loss:     0.8226 Validation Accuracy: 0.616400\n",
      "Epoch 19, CIFAR-10 Batch 1:  Loss:     0.9291 Validation Accuracy: 0.608600\n",
      "Epoch 19, CIFAR-10 Batch 2:  Loss:     0.7394 Validation Accuracy: 0.609000\n",
      "Epoch 19, CIFAR-10 Batch 3:  Loss:     0.7303 Validation Accuracy: 0.617800\n",
      "Epoch 19, CIFAR-10 Batch 4:  Loss:     0.7582 Validation Accuracy: 0.615000\n",
      "Epoch 19, CIFAR-10 Batch 5:  Loss:     0.8001 Validation Accuracy: 0.615800\n",
      "Epoch 20, CIFAR-10 Batch 1:  Loss:     0.9057 Validation Accuracy: 0.612400\n",
      "Epoch 20, CIFAR-10 Batch 2:  Loss:     0.7196 Validation Accuracy: 0.610400\n",
      "Epoch 20, CIFAR-10 Batch 3:  Loss:     0.7262 Validation Accuracy: 0.619000\n",
      "Epoch 20, CIFAR-10 Batch 4:  Loss:     0.7780 Validation Accuracy: 0.613800\n",
      "Epoch 20, CIFAR-10 Batch 5:  Loss:     0.7880 Validation Accuracy: 0.607800\n",
      "Epoch 21, CIFAR-10 Batch 1:  Loss:     0.8795 Validation Accuracy: 0.612200\n",
      "Epoch 21, CIFAR-10 Batch 2:  Loss:     0.7338 Validation Accuracy: 0.599800\n",
      "Epoch 21, CIFAR-10 Batch 3:  Loss:     0.7079 Validation Accuracy: 0.608200\n",
      "Epoch 21, CIFAR-10 Batch 4:  Loss:     0.7794 Validation Accuracy: 0.612000\n",
      "Epoch 21, CIFAR-10 Batch 5:  Loss:     0.7835 Validation Accuracy: 0.611400\n",
      "Epoch 22, CIFAR-10 Batch 1:  Loss:     0.8792 Validation Accuracy: 0.610200\n",
      "Epoch 22, CIFAR-10 Batch 2:  Loss:     0.7011 Validation Accuracy: 0.624000\n",
      "Epoch 22, CIFAR-10 Batch 3:  Loss:     0.6382 Validation Accuracy: 0.619000\n",
      "Epoch 22, CIFAR-10 Batch 4:  Loss:     0.7521 Validation Accuracy: 0.614600\n",
      "Epoch 22, CIFAR-10 Batch 5:  Loss:     0.7514 Validation Accuracy: 0.623200\n",
      "Epoch 23, CIFAR-10 Batch 1:  Loss:     0.8790 Validation Accuracy: 0.620400\n",
      "Epoch 23, CIFAR-10 Batch 2:  Loss:     0.7043 Validation Accuracy: 0.607400\n",
      "Epoch 23, CIFAR-10 Batch 3:  Loss:     0.6070 Validation Accuracy: 0.619200\n",
      "Epoch 23, CIFAR-10 Batch 4:  Loss:     0.7503 Validation Accuracy: 0.616200\n",
      "Epoch 23, CIFAR-10 Batch 5:  Loss:     0.7290 Validation Accuracy: 0.625400\n",
      "Epoch 24, CIFAR-10 Batch 1:  Loss:     0.9156 Validation Accuracy: 0.618200\n",
      "Epoch 24, CIFAR-10 Batch 2:  Loss:     0.6869 Validation Accuracy: 0.608200\n",
      "Epoch 24, CIFAR-10 Batch 3:  Loss:     0.6563 Validation Accuracy: 0.615600\n",
      "Epoch 24, CIFAR-10 Batch 4:  Loss:     0.7214 Validation Accuracy: 0.614000\n",
      "Epoch 24, CIFAR-10 Batch 5:  Loss:     0.7342 Validation Accuracy: 0.616800\n",
      "Epoch 25, CIFAR-10 Batch 1:  Loss:     0.8633 Validation Accuracy: 0.621000\n",
      "Epoch 25, CIFAR-10 Batch 2:  Loss:     0.6870 Validation Accuracy: 0.621800\n",
      "Epoch 25, CIFAR-10 Batch 3:  Loss:     0.6976 Validation Accuracy: 0.612000\n",
      "Epoch 25, CIFAR-10 Batch 4:  Loss:     0.7830 Validation Accuracy: 0.613000\n",
      "Epoch 25, CIFAR-10 Batch 5:  Loss:     0.7009 Validation Accuracy: 0.626200\n",
      "Epoch 26, CIFAR-10 Batch 1:  Loss:     0.8136 Validation Accuracy: 0.614600\n",
      "Epoch 26, CIFAR-10 Batch 2:  Loss:     0.6670 Validation Accuracy: 0.621400\n",
      "Epoch 26, CIFAR-10 Batch 3:  Loss:     0.6472 Validation Accuracy: 0.624600\n",
      "Epoch 26, CIFAR-10 Batch 4:  Loss:     0.7200 Validation Accuracy: 0.622600\n",
      "Epoch 26, CIFAR-10 Batch 5:  Loss:     0.7245 Validation Accuracy: 0.614800\n",
      "Epoch 27, CIFAR-10 Batch 1:  Loss:     0.8567 Validation Accuracy: 0.620400\n",
      "Epoch 27, CIFAR-10 Batch 2:  Loss:     0.6532 Validation Accuracy: 0.619000\n",
      "Epoch 27, CIFAR-10 Batch 3:  Loss:     0.6475 Validation Accuracy: 0.621400\n",
      "Epoch 27, CIFAR-10 Batch 4:  Loss:     0.7097 Validation Accuracy: 0.620200\n",
      "Epoch 27, CIFAR-10 Batch 5:  Loss:     0.7256 Validation Accuracy: 0.620400\n",
      "Epoch 28, CIFAR-10 Batch 1:  Loss:     0.7985 Validation Accuracy: 0.621400\n",
      "Epoch 28, CIFAR-10 Batch 2:  Loss:     0.6270 Validation Accuracy: 0.617800\n",
      "Epoch 28, CIFAR-10 Batch 3:  Loss:     0.6011 Validation Accuracy: 0.621600\n",
      "Epoch 28, CIFAR-10 Batch 4:  Loss:     0.7371 Validation Accuracy: 0.615200\n",
      "Epoch 28, CIFAR-10 Batch 5:  Loss:     0.7056 Validation Accuracy: 0.621800\n",
      "Epoch 29, CIFAR-10 Batch 1:  Loss:     0.8276 Validation Accuracy: 0.614600\n",
      "Epoch 29, CIFAR-10 Batch 2:  Loss:     0.6122 Validation Accuracy: 0.625000\n",
      "Epoch 29, CIFAR-10 Batch 3:  Loss:     0.6581 Validation Accuracy: 0.621200\n",
      "Epoch 29, CIFAR-10 Batch 4:  Loss:     0.7021 Validation Accuracy: 0.617000\n",
      "Epoch 29, CIFAR-10 Batch 5:  Loss:     0.6890 Validation Accuracy: 0.622400\n",
      "Epoch 30, CIFAR-10 Batch 1:  Loss:     0.8170 Validation Accuracy: 0.626200\n",
      "Epoch 30, CIFAR-10 Batch 2:  Loss:     0.6402 Validation Accuracy: 0.626600\n",
      "Epoch 30, CIFAR-10 Batch 3:  Loss:     0.6366 Validation Accuracy: 0.619000\n",
      "Epoch 30, CIFAR-10 Batch 4:  Loss:     0.6918 Validation Accuracy: 0.621400\n",
      "Epoch 30, CIFAR-10 Batch 5:  Loss:     0.6557 Validation Accuracy: 0.616600\n",
      "Epoch 31, CIFAR-10 Batch 1:  Loss:     0.8002 Validation Accuracy: 0.618200\n",
      "Epoch 31, CIFAR-10 Batch 2:  Loss:     0.6001 Validation Accuracy: 0.624800\n",
      "Epoch 31, CIFAR-10 Batch 3:  Loss:     0.5668 Validation Accuracy: 0.617600\n",
      "Epoch 31, CIFAR-10 Batch 4:  Loss:     0.6984 Validation Accuracy: 0.623400\n",
      "Epoch 31, CIFAR-10 Batch 5:  Loss:     0.6936 Validation Accuracy: 0.629000\n",
      "Epoch 32, CIFAR-10 Batch 1:  Loss:     0.7463 Validation Accuracy: 0.621200\n",
      "Epoch 32, CIFAR-10 Batch 2:  Loss:     0.5739 Validation Accuracy: 0.626400\n",
      "Epoch 32, CIFAR-10 Batch 3:  Loss:     0.5676 Validation Accuracy: 0.625000\n",
      "Epoch 32, CIFAR-10 Batch 4:  Loss:     0.6820 Validation Accuracy: 0.619200\n",
      "Epoch 32, CIFAR-10 Batch 5:  Loss:     0.6313 Validation Accuracy: 0.627400\n",
      "Epoch 33, CIFAR-10 Batch 1:  Loss:     0.7960 Validation Accuracy: 0.613800\n",
      "Epoch 33, CIFAR-10 Batch 2:  Loss:     0.6291 Validation Accuracy: 0.626000\n",
      "Epoch 33, CIFAR-10 Batch 3:  Loss:     0.5600 Validation Accuracy: 0.627800\n",
      "Epoch 33, CIFAR-10 Batch 4:  Loss:     0.6273 Validation Accuracy: 0.621000\n",
      "Epoch 33, CIFAR-10 Batch 5:  Loss:     0.6702 Validation Accuracy: 0.622800\n",
      "Epoch 34, CIFAR-10 Batch 1:  Loss:     0.7229 Validation Accuracy: 0.610000\n",
      "Epoch 34, CIFAR-10 Batch 2:  Loss:     0.5567 Validation Accuracy: 0.626000\n",
      "Epoch 34, CIFAR-10 Batch 3:  Loss:     0.5617 Validation Accuracy: 0.627000\n",
      "Epoch 34, CIFAR-10 Batch 4:  Loss:     0.6824 Validation Accuracy: 0.623400\n",
      "Epoch 34, CIFAR-10 Batch 5:  Loss:     0.6176 Validation Accuracy: 0.628400\n",
      "Epoch 35, CIFAR-10 Batch 1:  Loss:     0.7730 Validation Accuracy: 0.622600\n",
      "Epoch 35, CIFAR-10 Batch 2:  Loss:     0.5887 Validation Accuracy: 0.625800\n",
      "Epoch 35, CIFAR-10 Batch 3:  Loss:     0.5377 Validation Accuracy: 0.632000\n",
      "Epoch 35, CIFAR-10 Batch 4:  Loss:     0.6224 Validation Accuracy: 0.620600\n",
      "Epoch 35, CIFAR-10 Batch 5:  Loss:     0.6343 Validation Accuracy: 0.624400\n",
      "Epoch 36, CIFAR-10 Batch 1:  Loss:     0.7741 Validation Accuracy: 0.622600\n",
      "Epoch 36, CIFAR-10 Batch 2:  Loss:     0.5592 Validation Accuracy: 0.626600\n",
      "Epoch 36, CIFAR-10 Batch 3:  Loss:     0.5695 Validation Accuracy: 0.621200\n",
      "Epoch 36, CIFAR-10 Batch 4:  Loss:     0.6176 Validation Accuracy: 0.622200\n",
      "Epoch 36, CIFAR-10 Batch 5:  Loss:     0.6116 Validation Accuracy: 0.627800\n",
      "Epoch 37, CIFAR-10 Batch 1:  Loss:     0.7698 Validation Accuracy: 0.628000\n",
      "Epoch 37, CIFAR-10 Batch 2:  Loss:     0.5435 Validation Accuracy: 0.620200\n",
      "Epoch 37, CIFAR-10 Batch 3:  Loss:     0.6186 Validation Accuracy: 0.618000\n",
      "Epoch 37, CIFAR-10 Batch 4:  Loss:     0.6290 Validation Accuracy: 0.623600\n",
      "Epoch 37, CIFAR-10 Batch 5:  Loss:     0.6612 Validation Accuracy: 0.609800\n",
      "Epoch 38, CIFAR-10 Batch 1:  Loss:     0.7321 Validation Accuracy: 0.624600\n",
      "Epoch 38, CIFAR-10 Batch 2:  Loss:     0.5617 Validation Accuracy: 0.621200\n",
      "Epoch 38, CIFAR-10 Batch 3:  Loss:     0.4927 Validation Accuracy: 0.627000\n",
      "Epoch 38, CIFAR-10 Batch 4:  Loss:     0.5993 Validation Accuracy: 0.630000\n",
      "Epoch 38, CIFAR-10 Batch 5:  Loss:     0.6108 Validation Accuracy: 0.628400\n",
      "Epoch 39, CIFAR-10 Batch 1:  Loss:     0.7339 Validation Accuracy: 0.625800\n",
      "Epoch 39, CIFAR-10 Batch 2:  Loss:     0.5535 Validation Accuracy: 0.621400\n",
      "Epoch 39, CIFAR-10 Batch 3:  Loss:     0.5227 Validation Accuracy: 0.630600\n",
      "Epoch 39, CIFAR-10 Batch 4:  Loss:     0.5966 Validation Accuracy: 0.624200\n",
      "Epoch 39, CIFAR-10 Batch 5:  Loss:     0.6367 Validation Accuracy: 0.629600\n",
      "Epoch 40, CIFAR-10 Batch 1:  Loss:     0.7308 Validation Accuracy: 0.626200\n",
      "Epoch 40, CIFAR-10 Batch 2:  Loss:     0.5615 Validation Accuracy: 0.633000\n",
      "Epoch 40, CIFAR-10 Batch 3:  Loss:     0.5525 Validation Accuracy: 0.624400\n",
      "Epoch 40, CIFAR-10 Batch 4:  Loss:     0.6068 Validation Accuracy: 0.631800\n",
      "Epoch 40, CIFAR-10 Batch 5:  Loss:     0.6295 Validation Accuracy: 0.628800\n",
      "Epoch 41, CIFAR-10 Batch 1:  Loss:     0.7199 Validation Accuracy: 0.626600\n",
      "Epoch 41, CIFAR-10 Batch 2:  Loss:     0.5750 Validation Accuracy: 0.628200\n",
      "Epoch 41, CIFAR-10 Batch 3:  Loss:     0.5019 Validation Accuracy: 0.634800\n",
      "Epoch 41, CIFAR-10 Batch 4:  Loss:     0.6152 Validation Accuracy: 0.624600\n",
      "Epoch 41, CIFAR-10 Batch 5:  Loss:     0.6135 Validation Accuracy: 0.629000\n",
      "Epoch 42, CIFAR-10 Batch 1:  Loss:     0.7195 Validation Accuracy: 0.625400\n",
      "Epoch 42, CIFAR-10 Batch 2:  Loss:     0.5369 Validation Accuracy: 0.633600\n",
      "Epoch 42, CIFAR-10 Batch 3:  Loss:     0.5121 Validation Accuracy: 0.625800\n",
      "Epoch 42, CIFAR-10 Batch 4:  Loss:     0.6161 Validation Accuracy: 0.621800\n",
      "Epoch 42, CIFAR-10 Batch 5:  Loss:     0.6345 Validation Accuracy: 0.619000\n",
      "Epoch 43, CIFAR-10 Batch 1:  Loss:     0.7624 Validation Accuracy: 0.624400\n",
      "Epoch 43, CIFAR-10 Batch 2:  Loss:     0.5631 Validation Accuracy: 0.625000\n",
      "Epoch 43, CIFAR-10 Batch 3:  Loss:     0.4798 Validation Accuracy: 0.630200\n",
      "Epoch 43, CIFAR-10 Batch 4:  Loss:     0.6063 Validation Accuracy: 0.625600\n",
      "Epoch 43, CIFAR-10 Batch 5:  Loss:     0.5931 Validation Accuracy: 0.621600\n",
      "Epoch 44, CIFAR-10 Batch 1:  Loss:     0.7069 Validation Accuracy: 0.628000\n",
      "Epoch 44, CIFAR-10 Batch 2:  Loss:     0.5200 Validation Accuracy: 0.631800\n",
      "Epoch 44, CIFAR-10 Batch 3:  Loss:     0.4961 Validation Accuracy: 0.630000\n",
      "Epoch 44, CIFAR-10 Batch 4:  Loss:     0.5392 Validation Accuracy: 0.636400\n",
      "Epoch 44, CIFAR-10 Batch 5:  Loss:     0.5744 Validation Accuracy: 0.633800\n",
      "Epoch 45, CIFAR-10 Batch 1:  Loss:     0.7087 Validation Accuracy: 0.625800\n",
      "Epoch 45, CIFAR-10 Batch 2:  Loss:     0.4677 Validation Accuracy: 0.628400\n",
      "Epoch 45, CIFAR-10 Batch 3:  Loss:     0.4716 Validation Accuracy: 0.632600\n",
      "Epoch 45, CIFAR-10 Batch 4:  Loss:     0.5975 Validation Accuracy: 0.615800\n",
      "Epoch 45, CIFAR-10 Batch 5:  Loss:     0.6014 Validation Accuracy: 0.628400\n",
      "Epoch 46, CIFAR-10 Batch 1:  Loss:     0.6870 Validation Accuracy: 0.624600\n",
      "Epoch 46, CIFAR-10 Batch 2:  Loss:     0.4837 Validation Accuracy: 0.629800\n",
      "Epoch 46, CIFAR-10 Batch 3:  Loss:     0.5134 Validation Accuracy: 0.629400\n",
      "Epoch 46, CIFAR-10 Batch 4:  Loss:     0.5313 Validation Accuracy: 0.624600\n",
      "Epoch 46, CIFAR-10 Batch 5:  Loss:     0.5910 Validation Accuracy: 0.633200\n",
      "Epoch 47, CIFAR-10 Batch 1:  Loss:     0.6923 Validation Accuracy: 0.618800\n",
      "Epoch 47, CIFAR-10 Batch 2:  Loss:     0.4999 Validation Accuracy: 0.635000\n",
      "Epoch 47, CIFAR-10 Batch 3:  Loss:     0.4721 Validation Accuracy: 0.629000\n",
      "Epoch 47, CIFAR-10 Batch 4:  Loss:     0.5664 Validation Accuracy: 0.615200\n",
      "Epoch 47, CIFAR-10 Batch 5:  Loss:     0.5515 Validation Accuracy: 0.629600\n",
      "Epoch 48, CIFAR-10 Batch 1:  Loss:     0.6431 Validation Accuracy: 0.632800\n",
      "Epoch 48, CIFAR-10 Batch 2:  Loss:     0.5201 Validation Accuracy: 0.632400\n",
      "Epoch 48, CIFAR-10 Batch 3:  Loss:     0.4921 Validation Accuracy: 0.619600\n",
      "Epoch 48, CIFAR-10 Batch 4:  Loss:     0.5338 Validation Accuracy: 0.627600\n",
      "Epoch 48, CIFAR-10 Batch 5:  Loss:     0.5917 Validation Accuracy: 0.631400\n",
      "Epoch 49, CIFAR-10 Batch 1:  Loss:     0.6635 Validation Accuracy: 0.620800\n",
      "Epoch 49, CIFAR-10 Batch 2:  Loss:     0.5100 Validation Accuracy: 0.631800\n",
      "Epoch 49, CIFAR-10 Batch 3:  Loss:     0.4514 Validation Accuracy: 0.630200\n",
      "Epoch 49, CIFAR-10 Batch 4:  Loss:     0.5890 Validation Accuracy: 0.616600\n",
      "Epoch 49, CIFAR-10 Batch 5:  Loss:     0.5736 Validation Accuracy: 0.625000\n",
      "Epoch 50, CIFAR-10 Batch 1:  Loss:     0.6765 Validation Accuracy: 0.623800\n",
      "Epoch 50, CIFAR-10 Batch 2:  Loss:     0.4831 Validation Accuracy: 0.632400\n",
      "Epoch 50, CIFAR-10 Batch 3:  Loss:     0.4662 Validation Accuracy: 0.629400\n",
      "Epoch 50, CIFAR-10 Batch 4:  Loss:     0.5484 Validation Accuracy: 0.629200\n",
      "Epoch 50, CIFAR-10 Batch 5:  Loss:     0.5553 Validation Accuracy: 0.627200\n"
     ]
    }
   ],
   "source": [
    "\"\"\"\n",
    "DON'T MODIFY ANYTHING IN THIS CELL\n",
    "\"\"\"\n",
    "save_model_path = './image_classification'\n",
    "\n",
    "print('Training...')\n",
    "with tf.Session() as sess:\n",
    "    # Initializing the variables\n",
    "    sess.run(tf.global_variables_initializer())\n",
    "    \n",
    "    # Training cycle\n",
    "    for epoch in range(epochs):\n",
    "        # Loop over all batches\n",
    "        n_batches = 5\n",
    "        for batch_i in range(1, n_batches + 1):\n",
    "            for batch_features, batch_labels in helper.load_preprocess_training_batch(batch_i, batch_size):\n",
    "                train_neural_network(sess, optimizer, keep_probability, batch_features, batch_labels)\n",
    "            print('Epoch {:>2}, CIFAR-10 Batch {}:  '.format(epoch + 1, batch_i), end='')\n",
    "            print_stats(sess, batch_features, batch_labels, cost, accuracy)\n",
    "            \n",
    "    # Save Model\n",
    "    saver = tf.train.Saver()\n",
    "    save_path = saver.save(sess, save_model_path)"
   ]
  },
  {
   "cell_type": "markdown",
   "metadata": {},
   "source": [
    "# Checkpoint\n",
    "The model has been saved to disk.\n",
    "## Test Model\n",
    "Test your model against the test dataset.  This will be your final accuracy. You should have an accuracy greater than 50%. If you don't, keep tweaking the model architecture and parameters."
   ]
  },
  {
   "cell_type": "code",
   "execution_count": 18,
   "metadata": {},
   "outputs": [
    {
     "name": "stdout",
     "output_type": "stream",
     "text": [
      "Testing Accuracy: 0.6360759493670886\n",
      "\n"
     ]
    },
    {
     "data": {
      "image/png": "[encoded data removed]",
      "text/plain": [
       "<matplotlib.figure.Figure at 0x7f4b5ea51208>"
      ]
     },
     "metadata": {
      "image/png": {
       "height": 319,
       "width": 355
      }
     },
     "output_type": "display_data"
    }
   ],
   "source": [
    "\"\"\"\n",
    "DON'T MODIFY ANYTHING IN THIS CELL\n",
    "\"\"\"\n",
    "%matplotlib inline\n",
    "%config InlineBackend.figure_format = 'retina'\n",
    "\n",
    "import tensorflow as tf\n",
    "import pickle\n",
    "import helper\n",
    "import random\n",
    "\n",
    "# Set batch size if not already set\n",
    "try:\n",
    "    if batch_size:\n",
    "        pass\n",
    "except NameError:\n",
    "    batch_size = 64\n",
    "\n",
    "save_model_path = './image_classification'\n",
    "n_samples = 4\n",
    "top_n_predictions = 3\n",
    "\n",
    "def test_model():\n",
    "    \"\"\"\n",
    "    Test the saved model against the test dataset\n",
    "    \"\"\"\n",
    "\n",
    "    test_features, test_labels = pickle.load(open('preprocess_test.p', mode='rb'))\n",
    "    loaded_graph = tf.Graph()\n",
    "\n",
    "    with tf.Session(graph=loaded_graph) as sess:\n",
    "        # Load model\n",
    "        loader = tf.train.import_meta_graph(save_model_path + '.meta')\n",
    "        loader.restore(sess, save_model_path)\n",
    "\n",
    "        # Get Tensors from loaded model\n",
    "        loaded_x = loaded_graph.get_tensor_by_name('x:0')\n",
    "        loaded_y = loaded_graph.get_tensor_by_name('y:0')\n",
    "        loaded_keep_prob = loaded_graph.get_tensor_by_name('keep_prob:0')\n",
    "        loaded_logits = loaded_graph.get_tensor_by_name('logits:0')\n",
    "        loaded_acc = loaded_graph.get_tensor_by_name('accuracy:0')\n",
    "        \n",
    "        # Get accuracy in batches for memory limitations\n",
    "        test_batch_acc_total = 0\n",
    "        test_batch_count = 0\n",
    "        \n",
    "        for test_feature_batch, test_label_batch in helper.batch_features_labels(test_features, test_labels, batch_size):\n",
    "            test_batch_acc_total += sess.run(\n",
    "                loaded_acc,\n",
    "                feed_dict={loaded_x: test_feature_batch, loaded_y: test_label_batch, loaded_keep_prob: 1.0})\n",
    "            test_batch_count += 1\n",
    "\n",
    "        print('Testing Accuracy: {}\\n'.format(test_batch_acc_total/test_batch_count))\n",
    "\n",
    "        # Print Random Samples\n",
    "        random_test_features, random_test_labels = tuple(zip(*random.sample(list(zip(test_features, test_labels)), n_samples)))\n",
    "        random_test_predictions = sess.run(\n",
    "            tf.nn.top_k(tf.nn.softmax(loaded_logits), top_n_predictions),\n",
    "            feed_dict={loaded_x: random_test_features, loaded_y: random_test_labels, loaded_keep_prob: 1.0})\n",
    "        helper.display_image_predictions(random_test_features, random_test_labels, random_test_predictions)\n",
    "\n",
    "\n",
    "test_model()"
   ]
  },
  {
   "cell_type": "markdown",
   "metadata": {},
   "source": [
    "## Why 50-80% Accuracy?\n",
    "You might be wondering why you can't get an accuracy any higher. First things first, 50% isn't bad for a simple CNN.  Pure guessing would get you 10% accuracy. However, you might notice people are getting scores [well above 80%](http://rodrigob.github.io/are_we_there_yet/build/classification_datasets_results.html#43494641522d3130).  That's because we haven't taught you all there is to know about neural networks. We still need to cover a few more techniques.\n",
    "## Submitting This Project\n",
    "When submitting this project, make sure to run all the cells before saving the notebook.  Save the notebook file as \"dlnd_image_classification.ipynb\" and save it as a HTML file under \"File\" -> \"Download as\".  Include the \"helper.py\" and \"problem_unittests.py\" files in your submission."
   ]
  }
 ],
 "metadata": {
  "kernelspec": {
   "display_name": "Python 3",
   "language": "python",
   "name": "python3"
  },
  "language_info": {
   "codemirror_mode": {
    "name": "ipython",
    "version": 3
   },
   "file_extension": ".py",
   "mimetype": "text/x-python",
   "name": "python",
   "nbconvert_exporter": "python",
   "pygments_lexer": "ipython3",
   "version": "3.6.2"
  },
  "widgets": {
   "state": {},
   "version": "1.1.2"
  }
 },
 "nbformat": 4,
 "nbformat_minor": 1
}
