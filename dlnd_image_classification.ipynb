{
  "nbformat": 4,
  "nbformat_minor": 0,
  "metadata": {
    "kernelspec": {
      "name": "python3",
      "display_name": "Python 3"
    },
    "language_info": {
      "codemirror_mode": {
        "name": "ipython",
        "version": 3
      },
      "file_extension": ".py",
      "mimetype": "text/x-python",
      "name": "python",
      "nbconvert_exporter": "python",
      "pygments_lexer": "ipython3",
      "version": "3.5.2"
    },
    "widgets": {
      "state": {},
      "version": "1.1.2"
    },
    "colab": {
      "name": "dlnd_image_classification.ipynb",
      "version": "0.3.2",
      "provenance": [],
      "toc_visible": true,
      "include_colab_link": true
    },
    "accelerator": "GPU"
  },
  "cells": [
    {
      "cell_type": "markdown",
      "metadata": {
        "id": "view-in-github",
        "colab_type": "text"
      },
      "source": [
        "<a href=\"https://colab.research.google.com/github/phuvanat/image-classification/blob/master/dlnd_image_classification.ipynb\" target=\"_parent\"><img src=\"https://colab.research.google.com/assets/colab-badge.svg\" alt=\"Open In Colab\"/></a>"
      ]
    },
    {
      "cell_type": "markdown",
      "metadata": {
        "collapsed": true,
        "deletable": true,
        "editable": true,
        "id": "WBC3aFer5qyu",
        "colab_type": "text"
      },
      "source": [
        "# Image Classification\n",
        "In this project, you'll classify images from the [CIFAR-10 dataset](https://www.cs.toronto.edu/~kriz/cifar.html).  The dataset consists of airplanes, dogs, cats, and other objects. You'll preprocess the images, then train a convolutional neural network on all the samples. The images need to be normalized and the labels need to be one-hot encoded.  You'll get to apply what you learned and build a convolutional, max pooling, dropout, and fully connected layers.  At the end, you'll get to see your neural network's predictions on the sample images.\n",
        "## Get the Data\n",
        "Run the following cell to download the [CIFAR-10 dataset for python](https://www.cs.toronto.edu/~kriz/cifar-10-python.tar.gz)."
      ]
    },
    {
      "cell_type": "code",
      "metadata": {
        "id": "zgs7E0t96G7e",
        "colab_type": "code",
        "colab": {
          "base_uri": "https://localhost:8080/",
          "height": 204
        },
        "outputId": "4506b3b9-e318-49c7-e85b-ec7c5501e249"
      },
      "source": [
        "\n",
        "# Clone the entire repo.\n",
        "!git clone -l -s git://github.com/phuvanat/image-classification.git cloned-repo\n",
        "%cd cloned-repo\n",
        "!ls"
      ],
      "execution_count": 33,
      "outputs": [
        {
          "output_type": "stream",
          "text": [
            "Cloning into 'cloned-repo'...\n",
            "warning: --local is ignored\n",
            "remote: Enumerating objects: 3, done.\u001b[K\n",
            "remote: Counting objects:  33% (1/3)   \u001b[K\rremote: Counting objects:  66% (2/3)   \u001b[K\rremote: Counting objects: 100% (3/3)   \u001b[K\rremote: Counting objects: 100% (3/3), done.\u001b[K\n",
            "remote: Compressing objects:  33% (1/3)   \u001b[K\rremote: Compressing objects:  66% (2/3)   \u001b[K\rremote: Compressing objects: 100% (3/3)   \u001b[K\rremote: Compressing objects: 100% (3/3), done.\u001b[K\n",
            "Receiving objects:   4% (1/23)   \rReceiving objects:   8% (2/23)   \rReceiving objects:  13% (3/23)   \rReceiving objects:  17% (4/23)   \rReceiving objects:  21% (5/23)   \rReceiving objects:  26% (6/23)   \rReceiving objects:  30% (7/23)   \rReceiving objects:  34% (8/23)   \rReceiving objects:  39% (9/23)   \rReceiving objects:  43% (10/23)   \rremote: Total 23 (delta 0), reused 0 (delta 0), pack-reused 20\u001b[K\n",
            "Receiving objects:  47% (11/23)   \rReceiving objects:  52% (12/23)   \rReceiving objects:  56% (13/23)   \rReceiving objects:  60% (14/23)   \rReceiving objects:  65% (15/23)   \rReceiving objects:  69% (16/23)   \rReceiving objects:  73% (17/23)   \rReceiving objects:  78% (18/23)   \rReceiving objects:  82% (19/23)   \rReceiving objects:  86% (20/23)   \rReceiving objects:  91% (21/23)   \rReceiving objects:  95% (22/23)   \rReceiving objects: 100% (23/23)   \rReceiving objects: 100% (23/23), 196.58 KiB | 2.46 MiB/s, done.\n",
            "Resolving deltas:   0% (0/5)   \rResolving deltas:  40% (2/5)   \rResolving deltas: 100% (5/5)   \rResolving deltas: 100% (5/5), done.\n",
            "/content/cloned-repo/cloned-repo\n",
            "dlnd_image_classification.html\t floyd_requirements.txt  problem_unittests.py\n",
            "dlnd_image_classification.ipynb  helper.py\t\t README.md\n"
          ],
          "name": "stdout"
        }
      ]
    },
    {
      "cell_type": "code",
      "metadata": {
        "id": "qycB2GLb9CH_",
        "colab_type": "code",
        "colab": {}
      },
      "source": [
        "import os\n",
        "\n",
        "os.rename('helper.py', 'problem_helper.py')"
      ],
      "execution_count": 0,
      "outputs": []
    },
    {
      "cell_type": "code",
      "metadata": {
        "deletable": true,
        "editable": true,
        "id": "fijUX65j5qyw",
        "colab_type": "code",
        "colab": {
          "base_uri": "https://localhost:8080/",
          "height": 51
        },
        "outputId": "fdd1b7ce-96be-4544-82de-cb899b980e3d"
      },
      "source": [
        "\"\"\"\n",
        "DON'T MODIFY ANYTHING IN THIS CELL THAT IS BELOW THIS LINE\n",
        "\"\"\"\n",
        "from urllib.request import urlretrieve\n",
        "from os.path import isfile, isdir\n",
        "from tqdm import tqdm\n",
        "import problem_unittests as tests\n",
        "import tarfile\n",
        "\n",
        "cifar10_dataset_folder_path = 'cifar-10-batches-py'\n",
        "\n",
        "# Use Floyd's cifar-10 dataset if present\n",
        "floyd_cifar10_location = '/cifar/cifar-10-python.tar.gz'\n",
        "if isfile(floyd_cifar10_location):\n",
        "    tar_gz_path = floyd_cifar10_location\n",
        "else:\n",
        "    tar_gz_path = 'cifar-10-python.tar.gz'\n",
        "\n",
        "class DLProgress(tqdm):\n",
        "    last_block = 0\n",
        "\n",
        "    def hook(self, block_num=1, block_size=1, total_size=None):\n",
        "        self.total = total_size\n",
        "        self.update((block_num - self.last_block) * block_size)\n",
        "        self.last_block = block_num\n",
        "\n",
        "if not isfile(tar_gz_path):\n",
        "    with DLProgress(unit='B', unit_scale=True, miniters=1, desc='CIFAR-10 Dataset') as pbar:\n",
        "        urlretrieve(\n",
        "            'https://www.cs.toronto.edu/~kriz/cifar-10-python.tar.gz',\n",
        "            tar_gz_path,\n",
        "            pbar.hook)\n",
        "\n",
        "if not isdir(cifar10_dataset_folder_path):\n",
        "    with tarfile.open(tar_gz_path) as tar:\n",
        "        tar.extractall()\n",
        "        tar.close()\n",
        "\n",
        "\n",
        "tests.test_folder_path(cifar10_dataset_folder_path)"
      ],
      "execution_count": 35,
      "outputs": [
        {
          "output_type": "stream",
          "text": [
            "CIFAR-10 Dataset: 171MB [00:04, 41.8MB/s]                           \n"
          ],
          "name": "stderr"
        },
        {
          "output_type": "stream",
          "text": [
            "All files found!\n"
          ],
          "name": "stdout"
        }
      ]
    },
    {
      "cell_type": "markdown",
      "metadata": {
        "deletable": true,
        "editable": true,
        "id": "vt_VIwg85qy0",
        "colab_type": "text"
      },
      "source": [
        "## Explore the Data\n",
        "The dataset is broken into batches to prevent your machine from running out of memory.  The CIFAR-10 dataset consists of 5 batches, named `data_batch_1`, `data_batch_2`, etc.. Each batch contains the labels and images that are one of the following:\n",
        "* airplane\n",
        "* automobile\n",
        "* bird\n",
        "* cat\n",
        "* deer\n",
        "* dog\n",
        "* frog\n",
        "* horse\n",
        "* ship\n",
        "* truck\n",
        "\n",
        "Understanding a dataset is part of making predictions on the data.  Play around with the code cell below by changing the `batch_id` and `sample_id`. The `batch_id` is the id for a batch (1-5). The `sample_id` is the id for a image and label pair in the batch.\n",
        "\n",
        "Ask yourself \"What are all possible labels?\", \"What is the range of values for the image data?\", \"Are the labels in order or random?\".  Answers to questions like these will help you preprocess the data and end up with better predictions."
      ]
    },
    {
      "cell_type": "code",
      "metadata": {
        "deletable": true,
        "editable": true,
        "id": "kOUstXPQ5qy0",
        "colab_type": "code",
        "colab": {
          "base_uri": "https://localhost:8080/",
          "height": 435
        },
        "outputId": "c0d16cab-6e08-454b-e346-6e2b51f55ff8"
      },
      "source": [
        "%matplotlib inline\n",
        "%config InlineBackend.figure_format = 'retina'\n",
        "\n",
        "import problem_helper\n",
        "import numpy as np\n",
        "\n",
        "# Explore the dataset\n",
        "batch_id = 1\n",
        "sample_id = 5\n",
        "problem_helper.display_stats(cifar10_dataset_folder_path, batch_id, sample_id)"
      ],
      "execution_count": 36,
      "outputs": [
        {
          "output_type": "stream",
          "text": [
            "\n",
            "Stats of batch 1:\n",
            "Samples: 10000\n",
            "Label Counts: {0: 1005, 1: 974, 2: 1032, 3: 1016, 4: 999, 5: 937, 6: 1030, 7: 1001, 8: 1025, 9: 981}\n",
            "First 20 Labels: [6, 9, 9, 4, 1, 1, 2, 7, 8, 3, 4, 7, 7, 2, 9, 9, 9, 3, 2, 6]\n",
            "\n",
            "Example of Image 5:\n",
            "Image - Min Value: 0 Max Value: 252\n",
            "Image - Shape: (32, 32, 3)\n",
            "Label - Label Id: 1 Name: automobile\n"
          ],
          "name": "stdout"
        },
        {
          "output_type": "display_data",
          "data": {
            "image/png": "[encoded data removed]",
            "text/plain": [
              "<Figure size 432x288 with 1 Axes>"
            ]
          },
          "metadata": {
            "tags": [],
            "image/png": {
              "width": 251,
              "height": 248
            }
          }
        }
      ]
    },
    {
      "cell_type": "markdown",
      "metadata": {
        "deletable": true,
        "editable": true,
        "id": "oDpqo-mG5qy3",
        "colab_type": "text"
      },
      "source": [
        "## Implement Preprocess Functions\n",
        "### Normalize\n",
        "In the cell below, implement the `normalize` function to take in image data, `x`, and return it as a normalized Numpy array. The values should be in the range of 0 to 1, inclusive.  The return object should be the same shape as `x`."
      ]
    },
    {
      "cell_type": "code",
      "metadata": {
        "deletable": true,
        "editable": true,
        "id": "N1r-3e-I5qy4",
        "colab_type": "code",
        "colab": {
          "base_uri": "https://localhost:8080/",
          "height": 34
        },
        "outputId": "c0717d78-2355-46ee-de4d-f4a63ce219e2"
      },
      "source": [
        "def normalize(x):\n",
        "    \"\"\"\n",
        "    Normalize a list of sample image data in the range of 0 to 1\n",
        "    : x: List of image data.  The image shape is (32, 32, 3)\n",
        "    : return: Numpy array of normalize data\n",
        "    \"\"\"\n",
        "    # TODO: Implement Function\n",
        "    return x / 255.0\n",
        "\n",
        "\n",
        "\"\"\"\n",
        "DON'T MODIFY ANYTHING IN THIS CELL THAT IS BELOW THIS LINE\n",
        "\"\"\"\n",
        "tests.test_normalize(normalize)"
      ],
      "execution_count": 37,
      "outputs": [
        {
          "output_type": "stream",
          "text": [
            "Tests Passed\n"
          ],
          "name": "stdout"
        }
      ]
    },
    {
      "cell_type": "markdown",
      "metadata": {
        "deletable": true,
        "editable": true,
        "id": "wVcxAvUX5qy6",
        "colab_type": "text"
      },
      "source": [
        "### One-hot encode\n",
        "Just like the previous code cell, you'll be implementing a function for preprocessing.  This time, you'll implement the `one_hot_encode` function. The input, `x`, are a list of labels.  Implement the function to return the list of labels as One-Hot encoded Numpy array.  The possible values for labels are 0 to 9. The one-hot encoding function should return the same encoding for each value between each call to `one_hot_encode`.  Make sure to save the map of encodings outside the function.\n",
        "\n",
        "Hint: Don't reinvent the wheel."
      ]
    },
    {
      "cell_type": "code",
      "metadata": {
        "deletable": true,
        "editable": true,
        "id": "gASm9dp_5qy6",
        "colab_type": "code",
        "colab": {
          "base_uri": "https://localhost:8080/",
          "height": 34
        },
        "outputId": "3dc90cba-2081-4edd-9d70-e34d4439cc5b"
      },
      "source": [
        "def one_hot_encode(x):\n",
        "    \"\"\"\n",
        "    One hot encode a list of sample labels. Return a one-hot encoded vector for each label.\n",
        "    : x: List of sample Labels\n",
        "    : return: Numpy array of one-hot encoded labels\n",
        "    \"\"\"\n",
        "    # TODO: Implement Function\n",
        "    y = np.zeros((len(x), 10))\n",
        "    for i in range(len(x)):\n",
        "        y[i,x[i]] = 1\n",
        "    return y\n",
        "\n",
        "\n",
        "\"\"\"\n",
        "DON'T MODIFY ANYTHING IN THIS CELL THAT IS BELOW THIS LINE\n",
        "\"\"\"\n",
        "tests.test_one_hot_encode(one_hot_encode)"
      ],
      "execution_count": 38,
      "outputs": [
        {
          "output_type": "stream",
          "text": [
            "Tests Passed\n"
          ],
          "name": "stdout"
        }
      ]
    },
    {
      "cell_type": "markdown",
      "metadata": {
        "deletable": true,
        "editable": true,
        "id": "pEhrZm1E5qy9",
        "colab_type": "text"
      },
      "source": [
        "### Randomize Data\n",
        "As you saw from exploring the data above, the order of the samples are randomized.  It doesn't hurt to randomize it again, but you don't need to for this dataset."
      ]
    },
    {
      "cell_type": "markdown",
      "metadata": {
        "deletable": true,
        "editable": true,
        "id": "TpVCGPaB5qy9",
        "colab_type": "text"
      },
      "source": [
        "## Preprocess all the data and save it\n",
        "Running the code cell below will preprocess all the CIFAR-10 data and save it to file. The code below also uses 10% of the training data for validation."
      ]
    },
    {
      "cell_type": "code",
      "metadata": {
        "deletable": true,
        "editable": true,
        "id": "A7udTpZa5qy-",
        "colab_type": "code",
        "colab": {}
      },
      "source": [
        "\"\"\"\n",
        "DON'T MODIFY ANYTHING IN THIS CELL\n",
        "\"\"\"\n",
        "# Preprocess Training, Validation, and Testing Data\n",
        "problem_helper.preprocess_and_save_data(cifar10_dataset_folder_path, normalize, one_hot_encode)"
      ],
      "execution_count": 0,
      "outputs": []
    },
    {
      "cell_type": "markdown",
      "metadata": {
        "deletable": true,
        "editable": true,
        "id": "sMgaZ9PI5qzA",
        "colab_type": "text"
      },
      "source": [
        "# Check Point\n",
        "This is your first checkpoint.  If you ever decide to come back to this notebook or have to restart the notebook, you can start from here.  The preprocessed data has been saved to disk."
      ]
    },
    {
      "cell_type": "code",
      "metadata": {
        "deletable": true,
        "editable": true,
        "id": "12SPP2EU5qzA",
        "colab_type": "code",
        "colab": {}
      },
      "source": [
        "\"\"\"\n",
        "DON'T MODIFY ANYTHING IN THIS CELL\n",
        "\"\"\"\n",
        "import pickle\n",
        "import problem_unittests as tests\n",
        "import problem_helper\n",
        "\n",
        "# Load the Preprocessed Validation data\n",
        "valid_features, valid_labels = pickle.load(open('preprocess_validation.p', mode='rb'))"
      ],
      "execution_count": 0,
      "outputs": []
    },
    {
      "cell_type": "markdown",
      "metadata": {
        "deletable": true,
        "editable": true,
        "id": "RjLAT2Y75qzC",
        "colab_type": "text"
      },
      "source": [
        "## Build the network\n",
        "For the neural network, you'll build each layer into a function.  Most of the code you've seen has been outside of functions. To test your code more thoroughly, we require that you put each layer in a function.  This allows us to give you better feedback and test for simple mistakes using our unittests before you submit your project.\n",
        "\n",
        ">**Note:** If you're finding it hard to dedicate enough time for this course each week, we've provided a small shortcut to this part of the project. In the next couple of problems, you'll have the option to use classes from the [TensorFlow Layers](https://www.tensorflow.org/api_docs/python/tf/layers) or [TensorFlow Layers (contrib)](https://www.tensorflow.org/api_guides/python/contrib.layers) packages to build each layer, except the layers you build in the \"Convolutional and Max Pooling Layer\" section.  TF Layers is similar to Keras's and TFLearn's abstraction to layers, so it's easy to pickup.\n",
        "\n",
        ">However, if you would like to get the most out of this course, try to solve all the problems _without_ using anything from the TF Layers packages. You **can** still use classes from other packages that happen to have the same name as ones you find in TF Layers! For example, instead of using the TF Layers version of the `conv2d` class, [tf.layers.conv2d](https://www.tensorflow.org/api_docs/python/tf/layers/conv2d), you would want to use the TF Neural Network version of `conv2d`, [tf.nn.conv2d](https://www.tensorflow.org/api_docs/python/tf/nn/conv2d). \n",
        "\n",
        "Let's begin!\n",
        "\n",
        "### Input\n",
        "The neural network needs to read the image data, one-hot encoded labels, and dropout keep probability. Implement the following functions\n",
        "* Implement `neural_net_image_input`\n",
        " * Return a [TF Placeholder](https://www.tensorflow.org/api_docs/python/tf/placeholder)\n",
        " * Set the shape using `image_shape` with batch size set to `None`.\n",
        " * Name the TensorFlow placeholder \"x\" using the TensorFlow `name` parameter in the [TF Placeholder](https://www.tensorflow.org/api_docs/python/tf/placeholder).\n",
        "* Implement `neural_net_label_input`\n",
        " * Return a [TF Placeholder](https://www.tensorflow.org/api_docs/python/tf/placeholder)\n",
        " * Set the shape using `n_classes` with batch size set to `None`.\n",
        " * Name the TensorFlow placeholder \"y\" using the TensorFlow `name` parameter in the [TF Placeholder](https://www.tensorflow.org/api_docs/python/tf/placeholder).\n",
        "* Implement `neural_net_keep_prob_input`\n",
        " * Return a [TF Placeholder](https://www.tensorflow.org/api_docs/python/tf/placeholder) for dropout keep probability.\n",
        " * Name the TensorFlow placeholder \"keep_prob\" using the TensorFlow `name` parameter in the [TF Placeholder](https://www.tensorflow.org/api_docs/python/tf/placeholder).\n",
        "\n",
        "These names will be used at the end of the project to load your saved model.\n",
        "\n",
        "Note: `None` for shapes in TensorFlow allow for a dynamic size."
      ]
    },
    {
      "cell_type": "code",
      "metadata": {
        "deletable": true,
        "editable": true,
        "id": "iN5B9dSA5qzD",
        "colab_type": "code",
        "colab": {
          "base_uri": "https://localhost:8080/",
          "height": 68
        },
        "outputId": "fe5497bc-fa85-44da-ff52-00ed67ce5932"
      },
      "source": [
        "import tensorflow as tf\n",
        "\n",
        "def neural_net_image_input(image_shape):\n",
        "    \"\"\"\n",
        "    Return a Tensor for a batch of image input\n",
        "    : image_shape: Shape of the images\n",
        "    : return: Tensor for image input.\n",
        "    \"\"\"\n",
        "    # TODO: Implement Function\n",
        "    return tf.placeholder(tf.float32, [None] + list(image_shape), \"x\")\n",
        "\n",
        "\n",
        "def neural_net_label_input(n_classes):\n",
        "    \"\"\"\n",
        "    Return a Tensor for a batch of label input\n",
        "    : n_classes: Number of classes\n",
        "    : return: Tensor for label input.\n",
        "    \"\"\"\n",
        "    # TODO: Implement Function\n",
        "    return tf.placeholder(tf.float32, [None, n_classes], \"y\")\n",
        "\n",
        "\n",
        "def neural_net_keep_prob_input():\n",
        "    \"\"\"\n",
        "    Return a Tensor for keep probability\n",
        "    : return: Tensor for keep probability.\n",
        "    \"\"\"\n",
        "    # TODO: Implement Function  \n",
        "    return tf.placeholder(tf.float32, None, \"keep_prob\")\n",
        "\n",
        "\n",
        "\"\"\"\n",
        "DON'T MODIFY ANYTHING IN THIS CELL THAT IS BELOW THIS LINE\n",
        "\"\"\"\n",
        "tf.reset_default_graph()\n",
        "tests.test_nn_image_inputs(neural_net_image_input)\n",
        "tests.test_nn_label_inputs(neural_net_label_input)\n",
        "tests.test_nn_keep_prob_inputs(neural_net_keep_prob_input)"
      ],
      "execution_count": 41,
      "outputs": [
        {
          "output_type": "stream",
          "text": [
            "Image Input Tests Passed.\n",
            "Label Input Tests Passed.\n",
            "Keep Prob Tests Passed.\n"
          ],
          "name": "stdout"
        }
      ]
    },
    {
      "cell_type": "markdown",
      "metadata": {
        "deletable": true,
        "editable": true,
        "id": "brK-R9M85qzG",
        "colab_type": "text"
      },
      "source": [
        "### Convolution and Max Pooling Layer\n",
        "Convolution layers have a lot of success with images. For this code cell, you should implement the function `conv2d_maxpool` to apply convolution then max pooling:\n",
        "* Create the weight and bias using `conv_ksize`, `conv_num_outputs` and the shape of `x_tensor`.\n",
        "* Apply a convolution to `x_tensor` using weight and `conv_strides`.\n",
        " * We recommend you use same padding, but you're welcome to use any padding.\n",
        "* Add bias\n",
        "* Add a nonlinear activation to the convolution.\n",
        "* Apply Max Pooling using `pool_ksize` and `pool_strides`.\n",
        " * We recommend you use same padding, but you're welcome to use any padding.\n",
        "\n",
        "**Note:** You **can't** use [TensorFlow Layers](https://www.tensorflow.org/api_docs/python/tf/layers) or [TensorFlow Layers (contrib)](https://www.tensorflow.org/api_guides/python/contrib.layers) for **this** layer, but you can still use TensorFlow's [Neural Network](https://www.tensorflow.org/api_docs/python/tf/nn) package. You may still use the shortcut option for all the **other** layers."
      ]
    },
    {
      "cell_type": "code",
      "metadata": {
        "deletable": true,
        "editable": true,
        "id": "bWhEfR1Y5qzH",
        "colab_type": "code",
        "colab": {
          "base_uri": "https://localhost:8080/",
          "height": 34
        },
        "outputId": "4ac196ed-b159-44e8-badf-c2ec3bd10cdc"
      },
      "source": [
        "def conv2d_maxpool(x_tensor, conv_num_outputs, conv_ksize, conv_strides, pool_ksize, pool_strides):\n",
        "    \"\"\"\n",
        "    Apply convolution then max pooling to x_tensor\n",
        "    :param x_tensor: TensorFlow Tensor\n",
        "    :param conv_num_outputs: Number of outputs for the convolutional layer\n",
        "    :param conv_ksize: kernal size 2-D Tuple for the convolutional layer\n",
        "    :param conv_strides: Stride 2-D Tuple for convolution\n",
        "    :param pool_ksize: kernal size 2-D Tuple for pool\n",
        "    :param pool_strides: Stride 2-D Tuple for pool\n",
        "    : return: A tensor that represents convolution and max pooling of x_tensor\n",
        "    \"\"\"\n",
        "    # TODO: Implement Function\n",
        "    x_tensor_dim = x_tensor.get_shape().as_list()\n",
        "    x_tensor_depth = x_tensor_dim[-1]\n",
        "    filter_weights = tf.Variable(tf.truncated_normal((conv_ksize[0],conv_ksize[1], x_tensor_depth, conv_num_outputs),mean=0.0,stddev=0.1))\n",
        "    filter_bias = tf.Variable(tf.zeros(conv_num_outputs))\n",
        "    padding = 'SAME'\n",
        "    conv_strides = [1,conv_strides[0],conv_strides[1],1]\n",
        "    \n",
        "    conv_layer = tf.nn.conv2d(x_tensor, filter_weights, conv_strides, padding)\n",
        "    conv_layer = tf.nn.bias_add(conv_layer, filter_bias)   \n",
        "    conv_layer = tf.nn.relu(conv_layer)\n",
        "   \n",
        "    pool_ksize = [1,pool_ksize[0],pool_ksize[1],1]\n",
        "    pool_strides = [1,pool_strides[0],pool_strides[1],1]\n",
        "    conv_layer = tf.nn.max_pool(conv_layer,ksize=pool_ksize,strides=pool_strides,padding=padding)\n",
        "    \n",
        "    return conv_layer \n",
        "\n",
        "\n",
        "\"\"\"\n",
        "DON'T MODIFY ANYTHING IN THIS CELL THAT IS BELOW THIS LINE\n",
        "\"\"\"\n",
        "tests.test_con_pool(conv2d_maxpool)"
      ],
      "execution_count": 42,
      "outputs": [
        {
          "output_type": "stream",
          "text": [
            "Tests Passed\n"
          ],
          "name": "stdout"
        }
      ]
    },
    {
      "cell_type": "markdown",
      "metadata": {
        "deletable": true,
        "editable": true,
        "id": "btlkmr_F5qzJ",
        "colab_type": "text"
      },
      "source": [
        "### Flatten Layer\n",
        "Implement the `flatten` function to change the dimension of `x_tensor` from a 4-D tensor to a 2-D tensor.  The output should be the shape (*Batch Size*, *Flattened Image Size*). Shortcut option: you can use classes from the [TensorFlow Layers](https://www.tensorflow.org/api_docs/python/tf/layers) or [TensorFlow Layers (contrib)](https://www.tensorflow.org/api_guides/python/contrib.layers) packages for this layer. For more of a challenge, only use other TensorFlow packages."
      ]
    },
    {
      "cell_type": "code",
      "metadata": {
        "deletable": true,
        "editable": true,
        "id": "F2NP3awd5qzK",
        "colab_type": "code",
        "colab": {
          "base_uri": "https://localhost:8080/",
          "height": 34
        },
        "outputId": "5cadb4af-8059-45da-8f73-1a6a022dba42"
      },
      "source": [
        "from numpy import prod\n",
        "def flatten(x_tensor):\n",
        "    \"\"\"\n",
        "    Flatten x_tensor to (Batch Size, Flattened Image Size)\n",
        "    : x_tensor: A tensor of size (Batch Size, ...), where ... are the image dimensions.\n",
        "    : return: A tensor of size (Batch Size, Flattened Image Size).\n",
        "    \"\"\"\n",
        "    # TODO: Implement Function\n",
        "    return tf.contrib.layers.flatten(x_tensor)\n",
        "\n",
        "\n",
        "\"\"\"\n",
        "DON'T MODIFY ANYTHING IN THIS CELL THAT IS BELOW THIS LINE\n",
        "\"\"\"\n",
        "tests.test_flatten(flatten)"
      ],
      "execution_count": 43,
      "outputs": [
        {
          "output_type": "stream",
          "text": [
            "Tests Passed\n"
          ],
          "name": "stdout"
        }
      ]
    },
    {
      "cell_type": "markdown",
      "metadata": {
        "deletable": true,
        "editable": true,
        "id": "eCGOf-dI5qzM",
        "colab_type": "text"
      },
      "source": [
        "### Fully-Connected Layer\n",
        "Implement the `fully_conn` function to apply a fully connected layer to `x_tensor` with the shape (*Batch Size*, *num_outputs*). Shortcut option: you can use classes from the [TensorFlow Layers](https://www.tensorflow.org/api_docs/python/tf/layers) or [TensorFlow Layers (contrib)](https://www.tensorflow.org/api_guides/python/contrib.layers) packages for this layer. For more of a challenge, only use other TensorFlow packages."
      ]
    },
    {
      "cell_type": "code",
      "metadata": {
        "deletable": true,
        "editable": true,
        "id": "tmqfmZW55qzM",
        "colab_type": "code",
        "colab": {
          "base_uri": "https://localhost:8080/",
          "height": 34
        },
        "outputId": "0a3bec24-650a-4907-bb24-75c82975b6ef"
      },
      "source": [
        "def fully_conn(x_tensor, num_outputs):\n",
        "    \"\"\"\n",
        "    Apply a fully connected layer to x_tensor using weight and bias\n",
        "    : x_tensor: A 2-D tensor where the first dimension is batch size.\n",
        "    : num_outputs: The number of output that the new tensor should be.\n",
        "    : return: A 2-D tensor where the second dimension is num_outputs.\n",
        "    \"\"\"\n",
        "    # TODO: Implement Function\n",
        "    return tf.contrib.layers.fully_connected(x_tensor, num_outputs)\n",
        "\n",
        "\n",
        "\"\"\"\n",
        "DON'T MODIFY ANYTHING IN THIS CELL THAT IS BELOW THIS LINE\n",
        "\"\"\"\n",
        "tests.test_fully_conn(fully_conn)"
      ],
      "execution_count": 44,
      "outputs": [
        {
          "output_type": "stream",
          "text": [
            "Tests Passed\n"
          ],
          "name": "stdout"
        }
      ]
    },
    {
      "cell_type": "markdown",
      "metadata": {
        "deletable": true,
        "editable": true,
        "id": "ivIygg7l5qzO",
        "colab_type": "text"
      },
      "source": [
        "### Output Layer\n",
        "Implement the `output` function to apply a fully connected layer to `x_tensor` with the shape (*Batch Size*, *num_outputs*). Shortcut option: you can use classes from the [TensorFlow Layers](https://www.tensorflow.org/api_docs/python/tf/layers) or [TensorFlow Layers (contrib)](https://www.tensorflow.org/api_guides/python/contrib.layers) packages for this layer. For more of a challenge, only use other TensorFlow packages.\n",
        "\n",
        "**Note:** Activation, softmax, or cross entropy should **not** be applied to this."
      ]
    },
    {
      "cell_type": "code",
      "metadata": {
        "deletable": true,
        "editable": true,
        "id": "WwgJXTuE5qzP",
        "colab_type": "code",
        "colab": {
          "base_uri": "https://localhost:8080/",
          "height": 34
        },
        "outputId": "aa0c28ba-e648-42a7-9ee9-f7daeced025d"
      },
      "source": [
        "def output(x_tensor, num_outputs):\n",
        "    \"\"\"\n",
        "    Apply a output layer to x_tensor using weight and bias\n",
        "    : x_tensor: A 2-D tensor where the first dimension is batch size.\n",
        "    : num_outputs: The number of output that the new tensor should be.\n",
        "    : return: A 2-D tensor where the second dimension is num_outputs.\n",
        "    \"\"\"\n",
        "    # TODO: Implement Function\n",
        "    x_tensor_dim = x_tensor.get_shape().as_list()\n",
        "    x_tensor_depth = x_tensor_dim[-1]\n",
        "    weight = tf.Variable(tf.truncated_normal((x_tensor_depth,num_outputs),mean=0.0,stddev=0.1))\n",
        "    bias = tf.Variable(tf.zeros(num_outputs))\n",
        "    return tf.add(tf.matmul(x_tensor, weight), bias)\n",
        "\n",
        "\n",
        "\"\"\"\n",
        "DON'T MODIFY ANYTHING IN THIS CELL THAT IS BELOW THIS LINE\n",
        "\"\"\"\n",
        "tests.test_output(output)"
      ],
      "execution_count": 45,
      "outputs": [
        {
          "output_type": "stream",
          "text": [
            "Tests Passed\n"
          ],
          "name": "stdout"
        }
      ]
    },
    {
      "cell_type": "markdown",
      "metadata": {
        "deletable": true,
        "editable": true,
        "id": "larG9rNg5qzR",
        "colab_type": "text"
      },
      "source": [
        "### Create Convolutional Model\n",
        "Implement the function `conv_net` to create a convolutional neural network model. The function takes in a batch of images, `x`, and outputs logits.  Use the layers you created above to create this model:\n",
        "\n",
        "* Apply 1, 2, or 3 Convolution and Max Pool layers\n",
        "* Apply a Flatten Layer\n",
        "* Apply 1, 2, or 3 Fully Connected Layers\n",
        "* Apply an Output Layer\n",
        "* Return the output\n",
        "* Apply [TensorFlow's Dropout](https://www.tensorflow.org/api_docs/python/tf/nn/dropout) to one or more layers in the model using `keep_prob`. "
      ]
    },
    {
      "cell_type": "code",
      "metadata": {
        "deletable": true,
        "editable": true,
        "id": "H5748haG5qzU",
        "colab_type": "code",
        "colab": {
          "base_uri": "https://localhost:8080/",
          "height": 34
        },
        "outputId": "6a1abe0a-cce6-497a-bf7a-eafbcc541ff4"
      },
      "source": [
        "def conv_net(x, keep_prob):\n",
        "    \"\"\"\n",
        "    Create a convolutional neural network model\n",
        "    : x: Placeholder tensor that holds image data.\n",
        "    : keep_prob: Placeholder tensor that hold dropout keep probability.\n",
        "    : return: Tensor that represents logits\n",
        "    \"\"\"\n",
        "    # TODO: Apply 1, 2, or 3 Convolution and Max Pool layers\n",
        "    #    Play around with different number of outputs, kernel size and stride\n",
        "    # Function Definition from Above:\n",
        "    #    conv2d_maxpool(x_tensor, conv_num_outputs, conv_ksize, conv_strides, pool_ksize, pool_strides)\n",
        "    conv = conv2d_maxpool(x, conv_num_outputs=32, conv_ksize=(2,2), conv_strides=(1,1), pool_ksize=(4,4), pool_strides=(1,1))\n",
        "    conv = tf.nn.dropout(conv, keep_prob)\n",
        "    \n",
        "    # TODO: Apply a Flatten Layer\n",
        "    # Function Definition from Above:\n",
        "    #   flatten(x_tensor)\n",
        "    conv = flatten(conv)\n",
        "\n",
        "    # TODO: Apply 1, 2, or 3 Fully Connected Layers\n",
        "    #    Play around with different number of outputs\n",
        "    # Function Definition from Above:\n",
        "    #   fully_conn(x_tensor, num_outputs)\n",
        "    fc = fully_conn(conv,512)\n",
        "    fc = tf.nn.dropout(fc, keep_prob)\n",
        "    \n",
        "    # TODO: Apply an Output Layer\n",
        "    #    Set this to the number of classes\n",
        "    # Function Definition from Above:\n",
        "    #   output(x_tensor, num_outputs)\n",
        "    model = output(fc,10)\n",
        "    \n",
        "    # TODO: return output\n",
        "    return model\n",
        "\n",
        "\n",
        "\"\"\"\n",
        "DON'T MODIFY ANYTHING IN THIS CELL THAT IS BELOW THIS LINE\n",
        "\"\"\"\n",
        "\n",
        "##############################\n",
        "## Build the Neural Network ##\n",
        "##############################\n",
        "\n",
        "# Remove previous weights, bias, inputs, etc..\n",
        "tf.reset_default_graph()\n",
        "\n",
        "# Inputs\n",
        "x = neural_net_image_input((32, 32, 3))\n",
        "y = neural_net_label_input(10)\n",
        "keep_prob = neural_net_keep_prob_input()\n",
        "\n",
        "# Model\n",
        "logits = conv_net(x, keep_prob)\n",
        "\n",
        "# Name logits Tensor, so that is can be loaded from disk after training\n",
        "logits = tf.identity(logits, name='logits')\n",
        "\n",
        "# Loss and Optimizer\n",
        "cost = tf.reduce_mean(tf.nn.softmax_cross_entropy_with_logits(logits=logits, labels=y))\n",
        "optimizer = tf.train.AdamOptimizer().minimize(cost)\n",
        "\n",
        "# Accuracy\n",
        "correct_pred = tf.equal(tf.argmax(logits, 1), tf.argmax(y, 1))\n",
        "accuracy = tf.reduce_mean(tf.cast(correct_pred, tf.float32), name='accuracy')\n",
        "\n",
        "tests.test_conv_net(conv_net)"
      ],
      "execution_count": 46,
      "outputs": [
        {
          "output_type": "stream",
          "text": [
            "Neural Network Built!\n"
          ],
          "name": "stdout"
        }
      ]
    },
    {
      "cell_type": "markdown",
      "metadata": {
        "deletable": true,
        "editable": true,
        "id": "OnH8o-Sb5qzX",
        "colab_type": "text"
      },
      "source": [
        "## Train the Neural Network\n",
        "### Single Optimization\n",
        "Implement the function `train_neural_network` to do a single optimization.  The optimization should use `optimizer` to optimize in `session` with a `feed_dict` of the following:\n",
        "* `x` for image input\n",
        "* `y` for labels\n",
        "* `keep_prob` for keep probability for dropout\n",
        "\n",
        "This function will be called for each batch, so `tf.global_variables_initializer()` has already been called.\n",
        "\n",
        "Note: Nothing needs to be returned. This function is only optimizing the neural network."
      ]
    },
    {
      "cell_type": "code",
      "metadata": {
        "deletable": true,
        "editable": true,
        "id": "94xE0EYo5qzX",
        "colab_type": "code",
        "colab": {
          "base_uri": "https://localhost:8080/",
          "height": 34
        },
        "outputId": "dab1e4ae-0114-46db-df30-e1687a440212"
      },
      "source": [
        "def train_neural_network(session, optimizer, keep_probability, feature_batch, label_batch):\n",
        "    \"\"\"\n",
        "    Optimize the session on a batch of images and labels\n",
        "    : session: Current TensorFlow session\n",
        "    : optimizer: TensorFlow optimizer function\n",
        "    : keep_probability: keep probability\n",
        "    : feature_batch: Batch of Numpy image data\n",
        "    : label_batch: Batch of Numpy label data\n",
        "    \"\"\"\n",
        "    # TODO: Implement Function\n",
        "    session.run(optimizer, feed_dict={x:feature_batch, y:label_batch, keep_prob:keep_probability})\n",
        "\n",
        "\n",
        "\"\"\"\n",
        "DON'T MODIFY ANYTHING IN THIS CELL THAT IS BELOW THIS LINE\n",
        "\"\"\"\n",
        "tests.test_train_nn(train_neural_network)"
      ],
      "execution_count": 47,
      "outputs": [
        {
          "output_type": "stream",
          "text": [
            "Tests Passed\n"
          ],
          "name": "stdout"
        }
      ]
    },
    {
      "cell_type": "markdown",
      "metadata": {
        "deletable": true,
        "editable": true,
        "id": "t1xte6jM5qza",
        "colab_type": "text"
      },
      "source": [
        "### Show Stats\n",
        "Implement the function `print_stats` to print loss and validation accuracy.  Use the global variables `valid_features` and `valid_labels` to calculate validation accuracy.  Use a keep probability of `1.0` to calculate the loss and validation accuracy."
      ]
    },
    {
      "cell_type": "code",
      "metadata": {
        "deletable": true,
        "editable": true,
        "id": "bxCSogII5qza",
        "colab_type": "code",
        "colab": {}
      },
      "source": [
        "def print_stats(session, feature_batch, label_batch, cost, accuracy):\n",
        "    \"\"\"\n",
        "    Print information about loss and validation accuracy\n",
        "    : session: Current TensorFlow session\n",
        "    : feature_batch: Batch of Numpy image data\n",
        "    : label_batch: Batch of Numpy label data\n",
        "    : cost: TensorFlow cost function\n",
        "    : accuracy: TensorFlow accuracy function\n",
        "    \"\"\"\n",
        "    # TODO: Implement Function\n",
        "    loss = session.run(cost, feed_dict={\n",
        "                x: feature_batch,\n",
        "                y: label_batch,\n",
        "                keep_prob: 1.})\n",
        "    valid_acc = session.run(accuracy, feed_dict={\n",
        "                x: valid_features,\n",
        "                y: valid_labels,\n",
        "                keep_prob: 1.})\n",
        "\n",
        "    print('Loss: {:>10.4f} Validation Accuracy: {:.6f}'.format(\n",
        "                loss,\n",
        "                valid_acc))"
      ],
      "execution_count": 0,
      "outputs": []
    },
    {
      "cell_type": "markdown",
      "metadata": {
        "deletable": true,
        "editable": true,
        "id": "zSdQPRN25qzc",
        "colab_type": "text"
      },
      "source": [
        "### Hyperparameters\n",
        "Tune the following parameters:\n",
        "* Set `epochs` to the number of iterations until the network stops learning or start overfitting\n",
        "* Set `batch_size` to the highest number that your machine has memory for.  Most people set them to common sizes of memory:\n",
        " * 64\n",
        " * 128\n",
        " * 256\n",
        " * ...\n",
        "* Set `keep_probability` to the probability of keeping a node using dropout"
      ]
    },
    {
      "cell_type": "code",
      "metadata": {
        "deletable": true,
        "editable": true,
        "id": "96PtAWSN5qzc",
        "colab_type": "code",
        "colab": {}
      },
      "source": [
        "# TODO: Tune Parameters\n",
        "epochs = 50\n",
        "batch_size = 128\n",
        "keep_probability = 0.5"
      ],
      "execution_count": 0,
      "outputs": []
    },
    {
      "cell_type": "markdown",
      "metadata": {
        "deletable": true,
        "editable": true,
        "id": "KlPyR57z5qze",
        "colab_type": "text"
      },
      "source": [
        "### Train on a Single CIFAR-10 Batch\n",
        "Instead of training the neural network on all the CIFAR-10 batches of data, let's use a single batch. This should save time while you iterate on the model to get a better accuracy.  Once the final validation accuracy is 50% or greater, run the model on all the data in the next section."
      ]
    },
    {
      "cell_type": "code",
      "metadata": {
        "deletable": true,
        "editable": true,
        "id": "HNfE5xB65qzf",
        "colab_type": "code",
        "colab": {
          "base_uri": "https://localhost:8080/",
          "height": 884
        },
        "outputId": "74134d46-cbc3-40b9-82dd-67c9fb98b2e9"
      },
      "source": [
        "\"\"\"\n",
        "DON'T MODIFY ANYTHING IN THIS CELL\n",
        "\"\"\"\n",
        "print('Checking the Training on a Single Batch...')\n",
        "with tf.Session() as sess:\n",
        "    # Initializing the variables\n",
        "    sess.run(tf.global_variables_initializer())\n",
        "    \n",
        "    # Training cycle\n",
        "    for epoch in range(epochs):\n",
        "        batch_i = 1\n",
        "        for batch_features, batch_labels in problem_helper.load_preprocess_training_batch(batch_i, batch_size):\n",
        "            train_neural_network(sess, optimizer, keep_probability, batch_features, batch_labels)\n",
        "        print('Epoch {:>2}, CIFAR-10 Batch {}:  '.format(epoch + 1, batch_i), end='')\n",
        "        print_stats(sess, batch_features, batch_labels, cost, accuracy)"
      ],
      "execution_count": 50,
      "outputs": [
        {
          "output_type": "stream",
          "text": [
            "Checking the Training on a Single Batch...\n",
            "Epoch  1, CIFAR-10 Batch 1:  Loss:     2.0361 Validation Accuracy: 0.337400\n",
            "Epoch  2, CIFAR-10 Batch 1:  Loss:     1.8620 Validation Accuracy: 0.433800\n",
            "Epoch  3, CIFAR-10 Batch 1:  Loss:     1.7106 Validation Accuracy: 0.459200\n",
            "Epoch  4, CIFAR-10 Batch 1:  Loss:     1.5245 Validation Accuracy: 0.488000\n",
            "Epoch  5, CIFAR-10 Batch 1:  Loss:     1.4692 Validation Accuracy: 0.504800\n",
            "Epoch  6, CIFAR-10 Batch 1:  Loss:     1.2938 Validation Accuracy: 0.523800\n",
            "Epoch  7, CIFAR-10 Batch 1:  Loss:     1.2041 Validation Accuracy: 0.522400\n",
            "Epoch  8, CIFAR-10 Batch 1:  Loss:     1.1381 Validation Accuracy: 0.530400\n",
            "Epoch  9, CIFAR-10 Batch 1:  Loss:     1.0244 Validation Accuracy: 0.543200\n",
            "Epoch 10, CIFAR-10 Batch 1:  Loss:     0.9942 Validation Accuracy: 0.544400\n",
            "Epoch 11, CIFAR-10 Batch 1:  Loss:     0.8903 Validation Accuracy: 0.557400\n",
            "Epoch 12, CIFAR-10 Batch 1:  Loss:     0.8994 Validation Accuracy: 0.563600\n",
            "Epoch 13, CIFAR-10 Batch 1:  Loss:     0.8653 Validation Accuracy: 0.562200\n",
            "Epoch 14, CIFAR-10 Batch 1:  Loss:     0.8018 Validation Accuracy: 0.570600\n",
            "Epoch 15, CIFAR-10 Batch 1:  Loss:     0.7497 Validation Accuracy: 0.571400\n",
            "Epoch 16, CIFAR-10 Batch 1:  Loss:     0.7224 Validation Accuracy: 0.578600\n",
            "Epoch 17, CIFAR-10 Batch 1:  Loss:     0.7049 Validation Accuracy: 0.550400\n",
            "Epoch 18, CIFAR-10 Batch 1:  Loss:     0.6203 Validation Accuracy: 0.568200\n",
            "Epoch 19, CIFAR-10 Batch 1:  Loss:     0.5945 Validation Accuracy: 0.570400\n",
            "Epoch 20, CIFAR-10 Batch 1:  Loss:     0.5205 Validation Accuracy: 0.568800\n",
            "Epoch 21, CIFAR-10 Batch 1:  Loss:     0.5675 Validation Accuracy: 0.580800\n",
            "Epoch 22, CIFAR-10 Batch 1:  Loss:     0.5332 Validation Accuracy: 0.578200\n",
            "Epoch 23, CIFAR-10 Batch 1:  Loss:     0.5020 Validation Accuracy: 0.581600\n",
            "Epoch 24, CIFAR-10 Batch 1:  Loss:     0.5209 Validation Accuracy: 0.581000\n",
            "Epoch 25, CIFAR-10 Batch 1:  Loss:     0.4664 Validation Accuracy: 0.588800\n",
            "Epoch 26, CIFAR-10 Batch 1:  Loss:     0.4753 Validation Accuracy: 0.585200\n",
            "Epoch 27, CIFAR-10 Batch 1:  Loss:     0.4278 Validation Accuracy: 0.590600\n",
            "Epoch 28, CIFAR-10 Batch 1:  Loss:     0.4151 Validation Accuracy: 0.587000\n",
            "Epoch 29, CIFAR-10 Batch 1:  Loss:     0.3816 Validation Accuracy: 0.584200\n",
            "Epoch 30, CIFAR-10 Batch 1:  Loss:     0.4076 Validation Accuracy: 0.585600\n",
            "Epoch 31, CIFAR-10 Batch 1:  Loss:     0.3781 Validation Accuracy: 0.591000\n",
            "Epoch 32, CIFAR-10 Batch 1:  Loss:     0.3348 Validation Accuracy: 0.592400\n",
            "Epoch 33, CIFAR-10 Batch 1:  Loss:     0.3472 Validation Accuracy: 0.588200\n",
            "Epoch 34, CIFAR-10 Batch 1:  Loss:     0.3184 Validation Accuracy: 0.592600\n",
            "Epoch 35, CIFAR-10 Batch 1:  Loss:     0.3042 Validation Accuracy: 0.584400\n",
            "Epoch 36, CIFAR-10 Batch 1:  Loss:     0.2997 Validation Accuracy: 0.584800\n",
            "Epoch 37, CIFAR-10 Batch 1:  Loss:     0.2649 Validation Accuracy: 0.594600\n",
            "Epoch 38, CIFAR-10 Batch 1:  Loss:     0.2841 Validation Accuracy: 0.592000\n",
            "Epoch 39, CIFAR-10 Batch 1:  Loss:     0.2495 Validation Accuracy: 0.595800\n",
            "Epoch 40, CIFAR-10 Batch 1:  Loss:     0.2496 Validation Accuracy: 0.597800\n",
            "Epoch 41, CIFAR-10 Batch 1:  Loss:     0.2400 Validation Accuracy: 0.600600\n",
            "Epoch 42, CIFAR-10 Batch 1:  Loss:     0.2666 Validation Accuracy: 0.581200\n",
            "Epoch 43, CIFAR-10 Batch 1:  Loss:     0.2572 Validation Accuracy: 0.592400\n",
            "Epoch 44, CIFAR-10 Batch 1:  Loss:     0.2374 Validation Accuracy: 0.589600\n",
            "Epoch 45, CIFAR-10 Batch 1:  Loss:     0.2237 Validation Accuracy: 0.589000\n",
            "Epoch 46, CIFAR-10 Batch 1:  Loss:     0.2170 Validation Accuracy: 0.596800\n",
            "Epoch 47, CIFAR-10 Batch 1:  Loss:     0.2024 Validation Accuracy: 0.591400\n",
            "Epoch 48, CIFAR-10 Batch 1:  Loss:     0.2137 Validation Accuracy: 0.584400\n",
            "Epoch 49, CIFAR-10 Batch 1:  Loss:     0.2276 Validation Accuracy: 0.584800\n",
            "Epoch 50, CIFAR-10 Batch 1:  Loss:     0.2230 Validation Accuracy: 0.580200\n"
          ],
          "name": "stdout"
        }
      ]
    },
    {
      "cell_type": "markdown",
      "metadata": {
        "deletable": true,
        "editable": true,
        "id": "Iojntara5qzh",
        "colab_type": "text"
      },
      "source": [
        "### Fully Train the Model\n",
        "Now that you got a good accuracy with a single CIFAR-10 batch, try it with all five batches."
      ]
    },
    {
      "cell_type": "code",
      "metadata": {
        "deletable": true,
        "editable": true,
        "id": "s8gEL9f25qzh",
        "colab_type": "code",
        "colab": {
          "base_uri": "https://localhost:8080/",
          "height": 1000
        },
        "outputId": "a2b35770-fce7-4e01-8db5-257ddcc32be9"
      },
      "source": [
        "\"\"\"\n",
        "DON'T MODIFY ANYTHING IN THIS CELL\n",
        "\"\"\"\n",
        "save_model_path = './image_classification'\n",
        "\n",
        "print('Training...')\n",
        "with tf.Session() as sess:\n",
        "    # Initializing the variables\n",
        "    sess.run(tf.global_variables_initializer())\n",
        "    \n",
        "    # Training cycle\n",
        "    for epoch in range(epochs):\n",
        "        # Loop over all batches\n",
        "        n_batches = 5\n",
        "        for batch_i in range(1, n_batches + 1):\n",
        "            for batch_features, batch_labels in problem_helper.load_preprocess_training_batch(batch_i, batch_size):\n",
        "                train_neural_network(sess, optimizer, keep_probability, batch_features, batch_labels)\n",
        "            print('Epoch {:>2}, CIFAR-10 Batch {}:  '.format(epoch + 1, batch_i), end='')\n",
        "            print_stats(sess, batch_features, batch_labels, cost, accuracy)\n",
        "            \n",
        "    # Save Model\n",
        "    saver = tf.train.Saver()\n",
        "    save_path = saver.save(sess, save_model_path)"
      ],
      "execution_count": 51,
      "outputs": [
        {
          "output_type": "stream",
          "text": [
            "Training...\n",
            "Epoch  1, CIFAR-10 Batch 1:  Loss:     2.0546 Validation Accuracy: 0.256800\n",
            "Epoch  1, CIFAR-10 Batch 2:  Loss:     1.8204 Validation Accuracy: 0.403000\n",
            "Epoch  1, CIFAR-10 Batch 3:  Loss:     1.6105 Validation Accuracy: 0.441800\n",
            "Epoch  1, CIFAR-10 Batch 4:  Loss:     1.5729 Validation Accuracy: 0.458400\n",
            "Epoch  1, CIFAR-10 Batch 5:  Loss:     1.6055 Validation Accuracy: 0.484200\n",
            "Epoch  2, CIFAR-10 Batch 1:  Loss:     1.6617 Validation Accuracy: 0.505200\n",
            "Epoch  2, CIFAR-10 Batch 2:  Loss:     1.3624 Validation Accuracy: 0.526000\n",
            "Epoch  2, CIFAR-10 Batch 3:  Loss:     1.2436 Validation Accuracy: 0.512000\n",
            "Epoch  2, CIFAR-10 Batch 4:  Loss:     1.3616 Validation Accuracy: 0.528400\n",
            "Epoch  2, CIFAR-10 Batch 5:  Loss:     1.4286 Validation Accuracy: 0.519800\n",
            "Epoch  3, CIFAR-10 Batch 1:  Loss:     1.4565 Validation Accuracy: 0.551400\n",
            "Epoch  3, CIFAR-10 Batch 2:  Loss:     1.1470 Validation Accuracy: 0.559000\n",
            "Epoch  3, CIFAR-10 Batch 3:  Loss:     1.0918 Validation Accuracy: 0.531800\n",
            "Epoch  3, CIFAR-10 Batch 4:  Loss:     1.2279 Validation Accuracy: 0.561600\n",
            "Epoch  3, CIFAR-10 Batch 5:  Loss:     1.2397 Validation Accuracy: 0.575600\n",
            "Epoch  4, CIFAR-10 Batch 1:  Loss:     1.3270 Validation Accuracy: 0.571200\n",
            "Epoch  4, CIFAR-10 Batch 2:  Loss:     1.0375 Validation Accuracy: 0.584400\n",
            "Epoch  4, CIFAR-10 Batch 3:  Loss:     0.9468 Validation Accuracy: 0.555400\n",
            "Epoch  4, CIFAR-10 Batch 4:  Loss:     1.1862 Validation Accuracy: 0.573000\n",
            "Epoch  4, CIFAR-10 Batch 5:  Loss:     1.1571 Validation Accuracy: 0.566800\n",
            "Epoch  5, CIFAR-10 Batch 1:  Loss:     1.2340 Validation Accuracy: 0.591000\n",
            "Epoch  5, CIFAR-10 Batch 2:  Loss:     0.9987 Validation Accuracy: 0.594200\n",
            "Epoch  5, CIFAR-10 Batch 3:  Loss:     0.9163 Validation Accuracy: 0.574000\n",
            "Epoch  5, CIFAR-10 Batch 4:  Loss:     1.1016 Validation Accuracy: 0.588200\n",
            "Epoch  5, CIFAR-10 Batch 5:  Loss:     1.0963 Validation Accuracy: 0.587400\n",
            "Epoch  6, CIFAR-10 Batch 1:  Loss:     1.2004 Validation Accuracy: 0.599200\n",
            "Epoch  6, CIFAR-10 Batch 2:  Loss:     0.9135 Validation Accuracy: 0.589600\n",
            "Epoch  6, CIFAR-10 Batch 3:  Loss:     0.8212 Validation Accuracy: 0.590600\n",
            "Epoch  6, CIFAR-10 Batch 4:  Loss:     1.0453 Validation Accuracy: 0.604000\n",
            "Epoch  6, CIFAR-10 Batch 5:  Loss:     1.0009 Validation Accuracy: 0.594800\n",
            "Epoch  7, CIFAR-10 Batch 1:  Loss:     1.1458 Validation Accuracy: 0.604400\n",
            "Epoch  7, CIFAR-10 Batch 2:  Loss:     0.9212 Validation Accuracy: 0.612800\n",
            "Epoch  7, CIFAR-10 Batch 3:  Loss:     0.8062 Validation Accuracy: 0.594400\n",
            "Epoch  7, CIFAR-10 Batch 4:  Loss:     1.0460 Validation Accuracy: 0.596000\n",
            "Epoch  7, CIFAR-10 Batch 5:  Loss:     0.9542 Validation Accuracy: 0.592000\n",
            "Epoch  8, CIFAR-10 Batch 1:  Loss:     1.0826 Validation Accuracy: 0.611400\n",
            "Epoch  8, CIFAR-10 Batch 2:  Loss:     0.8475 Validation Accuracy: 0.600000\n",
            "Epoch  8, CIFAR-10 Batch 3:  Loss:     0.7926 Validation Accuracy: 0.605200\n",
            "Epoch  8, CIFAR-10 Batch 4:  Loss:     0.9728 Validation Accuracy: 0.615600\n",
            "Epoch  8, CIFAR-10 Batch 5:  Loss:     0.9060 Validation Accuracy: 0.603200\n",
            "Epoch  9, CIFAR-10 Batch 1:  Loss:     1.0617 Validation Accuracy: 0.610000\n",
            "Epoch  9, CIFAR-10 Batch 2:  Loss:     0.7914 Validation Accuracy: 0.618200\n",
            "Epoch  9, CIFAR-10 Batch 3:  Loss:     0.7508 Validation Accuracy: 0.615800\n",
            "Epoch  9, CIFAR-10 Batch 4:  Loss:     0.9600 Validation Accuracy: 0.623200\n",
            "Epoch  9, CIFAR-10 Batch 5:  Loss:     0.8888 Validation Accuracy: 0.611000\n",
            "Epoch 10, CIFAR-10 Batch 1:  Loss:     1.1038 Validation Accuracy: 0.612200\n",
            "Epoch 10, CIFAR-10 Batch 2:  Loss:     0.8049 Validation Accuracy: 0.619200\n",
            "Epoch 10, CIFAR-10 Batch 3:  Loss:     0.7531 Validation Accuracy: 0.618600\n",
            "Epoch 10, CIFAR-10 Batch 4:  Loss:     0.9464 Validation Accuracy: 0.617400\n",
            "Epoch 10, CIFAR-10 Batch 5:  Loss:     0.8446 Validation Accuracy: 0.615400\n",
            "Epoch 11, CIFAR-10 Batch 1:  Loss:     1.0130 Validation Accuracy: 0.604400\n",
            "Epoch 11, CIFAR-10 Batch 2:  Loss:     0.7979 Validation Accuracy: 0.624000\n",
            "Epoch 11, CIFAR-10 Batch 3:  Loss:     0.7403 Validation Accuracy: 0.627800\n",
            "Epoch 11, CIFAR-10 Batch 4:  Loss:     0.8766 Validation Accuracy: 0.623600\n",
            "Epoch 11, CIFAR-10 Batch 5:  Loss:     0.8391 Validation Accuracy: 0.616600\n",
            "Epoch 12, CIFAR-10 Batch 1:  Loss:     0.9415 Validation Accuracy: 0.619000\n",
            "Epoch 12, CIFAR-10 Batch 2:  Loss:     0.6834 Validation Accuracy: 0.632400\n",
            "Epoch 12, CIFAR-10 Batch 3:  Loss:     0.7452 Validation Accuracy: 0.612600\n",
            "Epoch 12, CIFAR-10 Batch 4:  Loss:     0.8893 Validation Accuracy: 0.612400\n",
            "Epoch 12, CIFAR-10 Batch 5:  Loss:     0.7957 Validation Accuracy: 0.623000\n",
            "Epoch 13, CIFAR-10 Batch 1:  Loss:     0.9011 Validation Accuracy: 0.617800\n",
            "Epoch 13, CIFAR-10 Batch 2:  Loss:     0.7833 Validation Accuracy: 0.623400\n",
            "Epoch 13, CIFAR-10 Batch 3:  Loss:     0.6829 Validation Accuracy: 0.628200\n",
            "Epoch 13, CIFAR-10 Batch 4:  Loss:     0.8471 Validation Accuracy: 0.628200\n",
            "Epoch 13, CIFAR-10 Batch 5:  Loss:     0.8281 Validation Accuracy: 0.616200\n",
            "Epoch 14, CIFAR-10 Batch 1:  Loss:     0.8788 Validation Accuracy: 0.627400\n",
            "Epoch 14, CIFAR-10 Batch 2:  Loss:     0.7060 Validation Accuracy: 0.624600\n",
            "Epoch 14, CIFAR-10 Batch 3:  Loss:     0.6600 Validation Accuracy: 0.627600\n",
            "Epoch 14, CIFAR-10 Batch 4:  Loss:     0.8394 Validation Accuracy: 0.615200\n",
            "Epoch 14, CIFAR-10 Batch 5:  Loss:     0.7668 Validation Accuracy: 0.611600\n",
            "Epoch 15, CIFAR-10 Batch 1:  Loss:     0.9057 Validation Accuracy: 0.624600\n",
            "Epoch 15, CIFAR-10 Batch 2:  Loss:     0.7285 Validation Accuracy: 0.628000\n",
            "Epoch 15, CIFAR-10 Batch 3:  Loss:     0.6149 Validation Accuracy: 0.629200\n",
            "Epoch 15, CIFAR-10 Batch 4:  Loss:     0.8271 Validation Accuracy: 0.620600\n",
            "Epoch 15, CIFAR-10 Batch 5:  Loss:     0.8225 Validation Accuracy: 0.618400\n",
            "Epoch 16, CIFAR-10 Batch 1:  Loss:     0.8771 Validation Accuracy: 0.626600\n",
            "Epoch 16, CIFAR-10 Batch 2:  Loss:     0.6464 Validation Accuracy: 0.639400\n",
            "Epoch 16, CIFAR-10 Batch 3:  Loss:     0.6454 Validation Accuracy: 0.621200\n",
            "Epoch 16, CIFAR-10 Batch 4:  Loss:     0.7771 Validation Accuracy: 0.626600\n",
            "Epoch 16, CIFAR-10 Batch 5:  Loss:     0.7488 Validation Accuracy: 0.626600\n",
            "Epoch 17, CIFAR-10 Batch 1:  Loss:     0.8273 Validation Accuracy: 0.629600\n",
            "Epoch 17, CIFAR-10 Batch 2:  Loss:     0.6382 Validation Accuracy: 0.626400\n",
            "Epoch 17, CIFAR-10 Batch 3:  Loss:     0.6071 Validation Accuracy: 0.617400\n",
            "Epoch 17, CIFAR-10 Batch 4:  Loss:     0.7589 Validation Accuracy: 0.630400\n",
            "Epoch 17, CIFAR-10 Batch 5:  Loss:     0.7021 Validation Accuracy: 0.626400\n",
            "Epoch 18, CIFAR-10 Batch 1:  Loss:     0.8601 Validation Accuracy: 0.631400\n",
            "Epoch 18, CIFAR-10 Batch 2:  Loss:     0.6276 Validation Accuracy: 0.639800\n",
            "Epoch 18, CIFAR-10 Batch 3:  Loss:     0.6003 Validation Accuracy: 0.623600\n",
            "Epoch 18, CIFAR-10 Batch 4:  Loss:     0.7283 Validation Accuracy: 0.634800\n",
            "Epoch 18, CIFAR-10 Batch 5:  Loss:     0.7187 Validation Accuracy: 0.626600\n",
            "Epoch 19, CIFAR-10 Batch 1:  Loss:     0.7529 Validation Accuracy: 0.637200\n",
            "Epoch 19, CIFAR-10 Batch 2:  Loss:     0.6489 Validation Accuracy: 0.635400\n",
            "Epoch 19, CIFAR-10 Batch 3:  Loss:     0.6352 Validation Accuracy: 0.633800\n",
            "Epoch 19, CIFAR-10 Batch 4:  Loss:     0.7632 Validation Accuracy: 0.628200\n",
            "Epoch 19, CIFAR-10 Batch 5:  Loss:     0.6588 Validation Accuracy: 0.637000\n",
            "Epoch 20, CIFAR-10 Batch 1:  Loss:     0.7833 Validation Accuracy: 0.639600\n",
            "Epoch 20, CIFAR-10 Batch 2:  Loss:     0.6738 Validation Accuracy: 0.631000\n",
            "Epoch 20, CIFAR-10 Batch 3:  Loss:     0.5807 Validation Accuracy: 0.632400\n",
            "Epoch 20, CIFAR-10 Batch 4:  Loss:     0.7388 Validation Accuracy: 0.616400\n",
            "Epoch 20, CIFAR-10 Batch 5:  Loss:     0.7276 Validation Accuracy: 0.612600\n",
            "Epoch 21, CIFAR-10 Batch 1:  Loss:     0.7809 Validation Accuracy: 0.631600\n",
            "Epoch 21, CIFAR-10 Batch 2:  Loss:     0.6401 Validation Accuracy: 0.633600\n",
            "Epoch 21, CIFAR-10 Batch 3:  Loss:     0.6224 Validation Accuracy: 0.628200\n",
            "Epoch 21, CIFAR-10 Batch 4:  Loss:     0.7354 Validation Accuracy: 0.628600\n",
            "Epoch 21, CIFAR-10 Batch 5:  Loss:     0.6516 Validation Accuracy: 0.630600\n",
            "Epoch 22, CIFAR-10 Batch 1:  Loss:     0.7196 Validation Accuracy: 0.634600\n",
            "Epoch 22, CIFAR-10 Batch 2:  Loss:     0.6042 Validation Accuracy: 0.634000\n",
            "Epoch 22, CIFAR-10 Batch 3:  Loss:     0.6302 Validation Accuracy: 0.626800\n",
            "Epoch 22, CIFAR-10 Batch 4:  Loss:     0.6881 Validation Accuracy: 0.632200\n",
            "Epoch 22, CIFAR-10 Batch 5:  Loss:     0.6465 Validation Accuracy: 0.636600\n",
            "Epoch 23, CIFAR-10 Batch 1:  Loss:     0.7139 Validation Accuracy: 0.633000\n",
            "Epoch 23, CIFAR-10 Batch 2:  Loss:     0.6414 Validation Accuracy: 0.626000\n",
            "Epoch 23, CIFAR-10 Batch 3:  Loss:     0.5764 Validation Accuracy: 0.633200\n",
            "Epoch 23, CIFAR-10 Batch 4:  Loss:     0.6154 Validation Accuracy: 0.637000\n",
            "Epoch 23, CIFAR-10 Batch 5:  Loss:     0.6766 Validation Accuracy: 0.626800\n",
            "Epoch 24, CIFAR-10 Batch 1:  Loss:     0.6952 Validation Accuracy: 0.635000\n",
            "Epoch 24, CIFAR-10 Batch 2:  Loss:     0.6689 Validation Accuracy: 0.631000\n",
            "Epoch 24, CIFAR-10 Batch 3:  Loss:     0.6029 Validation Accuracy: 0.625000\n",
            "Epoch 24, CIFAR-10 Batch 4:  Loss:     0.6906 Validation Accuracy: 0.620200\n",
            "Epoch 24, CIFAR-10 Batch 5:  Loss:     0.6517 Validation Accuracy: 0.614800\n",
            "Epoch 25, CIFAR-10 Batch 1:  Loss:     0.7409 Validation Accuracy: 0.639800\n",
            "Epoch 25, CIFAR-10 Batch 2:  Loss:     0.5691 Validation Accuracy: 0.640800\n",
            "Epoch 25, CIFAR-10 Batch 3:  Loss:     0.5748 Validation Accuracy: 0.633600\n",
            "Epoch 25, CIFAR-10 Batch 4:  Loss:     0.6433 Validation Accuracy: 0.629800\n",
            "Epoch 25, CIFAR-10 Batch 5:  Loss:     0.6212 Validation Accuracy: 0.636400\n",
            "Epoch 26, CIFAR-10 Batch 1:  Loss:     0.6992 Validation Accuracy: 0.637800\n",
            "Epoch 26, CIFAR-10 Batch 2:  Loss:     0.6204 Validation Accuracy: 0.641000\n",
            "Epoch 26, CIFAR-10 Batch 3:  Loss:     0.5447 Validation Accuracy: 0.633200\n",
            "Epoch 26, CIFAR-10 Batch 4:  Loss:     0.6384 Validation Accuracy: 0.630200\n",
            "Epoch 26, CIFAR-10 Batch 5:  Loss:     0.6169 Validation Accuracy: 0.632600\n",
            "Epoch 27, CIFAR-10 Batch 1:  Loss:     0.6986 Validation Accuracy: 0.641000\n",
            "Epoch 27, CIFAR-10 Batch 2:  Loss:     0.5710 Validation Accuracy: 0.636200\n",
            "Epoch 27, CIFAR-10 Batch 3:  Loss:     0.5448 Validation Accuracy: 0.638600\n",
            "Epoch 27, CIFAR-10 Batch 4:  Loss:     0.6470 Validation Accuracy: 0.626400\n",
            "Epoch 27, CIFAR-10 Batch 5:  Loss:     0.6046 Validation Accuracy: 0.642200\n",
            "Epoch 28, CIFAR-10 Batch 1:  Loss:     0.7365 Validation Accuracy: 0.631400\n",
            "Epoch 28, CIFAR-10 Batch 2:  Loss:     0.6291 Validation Accuracy: 0.644200\n",
            "Epoch 28, CIFAR-10 Batch 3:  Loss:     0.5150 Validation Accuracy: 0.647400\n",
            "Epoch 28, CIFAR-10 Batch 4:  Loss:     0.6256 Validation Accuracy: 0.635400\n",
            "Epoch 28, CIFAR-10 Batch 5:  Loss:     0.5888 Validation Accuracy: 0.642600\n",
            "Epoch 29, CIFAR-10 Batch 1:  Loss:     0.7175 Validation Accuracy: 0.638200\n",
            "Epoch 29, CIFAR-10 Batch 2:  Loss:     0.6637 Validation Accuracy: 0.637800\n",
            "Epoch 29, CIFAR-10 Batch 3:  Loss:     0.5587 Validation Accuracy: 0.635400\n",
            "Epoch 29, CIFAR-10 Batch 4:  Loss:     0.6436 Validation Accuracy: 0.617200\n",
            "Epoch 29, CIFAR-10 Batch 5:  Loss:     0.6420 Validation Accuracy: 0.632400\n",
            "Epoch 30, CIFAR-10 Batch 1:  Loss:     0.6829 Validation Accuracy: 0.645600\n",
            "Epoch 30, CIFAR-10 Batch 2:  Loss:     0.6207 Validation Accuracy: 0.639200\n",
            "Epoch 30, CIFAR-10 Batch 3:  Loss:     0.4856 Validation Accuracy: 0.641600\n",
            "Epoch 30, CIFAR-10 Batch 4:  Loss:     0.5793 Validation Accuracy: 0.634000\n",
            "Epoch 30, CIFAR-10 Batch 5:  Loss:     0.6077 Validation Accuracy: 0.639000\n",
            "Epoch 31, CIFAR-10 Batch 1:  Loss:     0.6932 Validation Accuracy: 0.628400\n",
            "Epoch 31, CIFAR-10 Batch 2:  Loss:     0.6348 Validation Accuracy: 0.642800\n",
            "Epoch 31, CIFAR-10 Batch 3:  Loss:     0.6044 Validation Accuracy: 0.635800\n",
            "Epoch 31, CIFAR-10 Batch 4:  Loss:     0.5743 Validation Accuracy: 0.638000\n",
            "Epoch 31, CIFAR-10 Batch 5:  Loss:     0.5634 Validation Accuracy: 0.636200\n",
            "Epoch 32, CIFAR-10 Batch 1:  Loss:     0.6850 Validation Accuracy: 0.639800\n",
            "Epoch 32, CIFAR-10 Batch 2:  Loss:     0.5724 Validation Accuracy: 0.647600\n",
            "Epoch 32, CIFAR-10 Batch 3:  Loss:     0.4690 Validation Accuracy: 0.640800\n",
            "Epoch 32, CIFAR-10 Batch 4:  Loss:     0.5414 Validation Accuracy: 0.642800\n",
            "Epoch 32, CIFAR-10 Batch 5:  Loss:     0.5777 Validation Accuracy: 0.630800\n",
            "Epoch 33, CIFAR-10 Batch 1:  Loss:     0.7281 Validation Accuracy: 0.637600\n",
            "Epoch 33, CIFAR-10 Batch 2:  Loss:     0.5674 Validation Accuracy: 0.638800\n",
            "Epoch 33, CIFAR-10 Batch 3:  Loss:     0.5304 Validation Accuracy: 0.634800\n",
            "Epoch 33, CIFAR-10 Batch 4:  Loss:     0.5579 Validation Accuracy: 0.636800\n",
            "Epoch 33, CIFAR-10 Batch 5:  Loss:     0.5631 Validation Accuracy: 0.635800\n",
            "Epoch 34, CIFAR-10 Batch 1:  Loss:     0.6687 Validation Accuracy: 0.636600\n",
            "Epoch 34, CIFAR-10 Batch 2:  Loss:     0.5508 Validation Accuracy: 0.647400\n",
            "Epoch 34, CIFAR-10 Batch 3:  Loss:     0.4707 Validation Accuracy: 0.644800\n",
            "Epoch 34, CIFAR-10 Batch 4:  Loss:     0.5780 Validation Accuracy: 0.635200\n",
            "Epoch 34, CIFAR-10 Batch 5:  Loss:     0.5493 Validation Accuracy: 0.639600\n",
            "Epoch 35, CIFAR-10 Batch 1:  Loss:     0.6432 Validation Accuracy: 0.645800\n",
            "Epoch 35, CIFAR-10 Batch 2:  Loss:     0.5146 Validation Accuracy: 0.645800\n",
            "Epoch 35, CIFAR-10 Batch 3:  Loss:     0.4743 Validation Accuracy: 0.643600\n",
            "Epoch 35, CIFAR-10 Batch 4:  Loss:     0.5243 Validation Accuracy: 0.633400\n",
            "Epoch 35, CIFAR-10 Batch 5:  Loss:     0.6040 Validation Accuracy: 0.641200\n",
            "Epoch 36, CIFAR-10 Batch 1:  Loss:     0.6477 Validation Accuracy: 0.640200\n",
            "Epoch 36, CIFAR-10 Batch 2:  Loss:     0.5609 Validation Accuracy: 0.643000\n",
            "Epoch 36, CIFAR-10 Batch 3:  Loss:     0.5060 Validation Accuracy: 0.641400\n",
            "Epoch 36, CIFAR-10 Batch 4:  Loss:     0.5513 Validation Accuracy: 0.635800\n",
            "Epoch 36, CIFAR-10 Batch 5:  Loss:     0.5418 Validation Accuracy: 0.645800\n",
            "Epoch 37, CIFAR-10 Batch 1:  Loss:     0.6716 Validation Accuracy: 0.640600\n",
            "Epoch 37, CIFAR-10 Batch 2:  Loss:     0.5496 Validation Accuracy: 0.644400\n",
            "Epoch 37, CIFAR-10 Batch 3:  Loss:     0.4705 Validation Accuracy: 0.645000\n",
            "Epoch 37, CIFAR-10 Batch 4:  Loss:     0.5222 Validation Accuracy: 0.643200\n",
            "Epoch 37, CIFAR-10 Batch 5:  Loss:     0.5306 Validation Accuracy: 0.637600\n",
            "Epoch 38, CIFAR-10 Batch 1:  Loss:     0.6315 Validation Accuracy: 0.638800\n",
            "Epoch 38, CIFAR-10 Batch 2:  Loss:     0.5949 Validation Accuracy: 0.644600\n",
            "Epoch 38, CIFAR-10 Batch 3:  Loss:     0.4648 Validation Accuracy: 0.649200\n",
            "Epoch 38, CIFAR-10 Batch 4:  Loss:     0.5089 Validation Accuracy: 0.633400\n",
            "Epoch 38, CIFAR-10 Batch 5:  Loss:     0.5523 Validation Accuracy: 0.635800\n",
            "Epoch 39, CIFAR-10 Batch 1:  Loss:     0.6250 Validation Accuracy: 0.636000\n",
            "Epoch 39, CIFAR-10 Batch 2:  Loss:     0.5299 Validation Accuracy: 0.644200\n",
            "Epoch 39, CIFAR-10 Batch 3:  Loss:     0.4399 Validation Accuracy: 0.640600\n",
            "Epoch 39, CIFAR-10 Batch 4:  Loss:     0.4914 Validation Accuracy: 0.639200\n",
            "Epoch 39, CIFAR-10 Batch 5:  Loss:     0.5263 Validation Accuracy: 0.641000\n",
            "Epoch 40, CIFAR-10 Batch 1:  Loss:     0.6500 Validation Accuracy: 0.636000\n",
            "Epoch 40, CIFAR-10 Batch 2:  Loss:     0.5506 Validation Accuracy: 0.646200\n",
            "Epoch 40, CIFAR-10 Batch 3:  Loss:     0.4545 Validation Accuracy: 0.641800\n",
            "Epoch 40, CIFAR-10 Batch 4:  Loss:     0.4784 Validation Accuracy: 0.635000\n",
            "Epoch 40, CIFAR-10 Batch 5:  Loss:     0.5228 Validation Accuracy: 0.647800\n",
            "Epoch 41, CIFAR-10 Batch 1:  Loss:     0.7086 Validation Accuracy: 0.630600\n",
            "Epoch 41, CIFAR-10 Batch 2:  Loss:     0.5310 Validation Accuracy: 0.640800\n",
            "Epoch 41, CIFAR-10 Batch 3:  Loss:     0.4510 Validation Accuracy: 0.638200\n",
            "Epoch 41, CIFAR-10 Batch 4:  Loss:     0.4723 Validation Accuracy: 0.631200\n",
            "Epoch 41, CIFAR-10 Batch 5:  Loss:     0.5306 Validation Accuracy: 0.641800\n",
            "Epoch 42, CIFAR-10 Batch 1:  Loss:     0.6205 Validation Accuracy: 0.641200\n",
            "Epoch 42, CIFAR-10 Batch 2:  Loss:     0.5095 Validation Accuracy: 0.644600\n",
            "Epoch 42, CIFAR-10 Batch 3:  Loss:     0.4678 Validation Accuracy: 0.637000\n",
            "Epoch 42, CIFAR-10 Batch 4:  Loss:     0.4275 Validation Accuracy: 0.635400\n",
            "Epoch 42, CIFAR-10 Batch 5:  Loss:     0.4915 Validation Accuracy: 0.641600\n",
            "Epoch 43, CIFAR-10 Batch 1:  Loss:     0.6034 Validation Accuracy: 0.646000\n",
            "Epoch 43, CIFAR-10 Batch 2:  Loss:     0.5255 Validation Accuracy: 0.642400\n",
            "Epoch 43, CIFAR-10 Batch 3:  Loss:     0.4591 Validation Accuracy: 0.644200\n",
            "Epoch 43, CIFAR-10 Batch 4:  Loss:     0.4639 Validation Accuracy: 0.637600\n",
            "Epoch 43, CIFAR-10 Batch 5:  Loss:     0.4987 Validation Accuracy: 0.646400\n",
            "Epoch 44, CIFAR-10 Batch 1:  Loss:     0.5883 Validation Accuracy: 0.633600\n",
            "Epoch 44, CIFAR-10 Batch 2:  Loss:     0.5008 Validation Accuracy: 0.650200\n",
            "Epoch 44, CIFAR-10 Batch 3:  Loss:     0.4521 Validation Accuracy: 0.646000\n",
            "Epoch 44, CIFAR-10 Batch 4:  Loss:     0.5089 Validation Accuracy: 0.623200\n",
            "Epoch 44, CIFAR-10 Batch 5:  Loss:     0.4893 Validation Accuracy: 0.646800\n",
            "Epoch 45, CIFAR-10 Batch 1:  Loss:     0.5849 Validation Accuracy: 0.643000\n",
            "Epoch 45, CIFAR-10 Batch 2:  Loss:     0.5059 Validation Accuracy: 0.646400\n",
            "Epoch 45, CIFAR-10 Batch 3:  Loss:     0.4685 Validation Accuracy: 0.651600\n",
            "Epoch 45, CIFAR-10 Batch 4:  Loss:     0.4510 Validation Accuracy: 0.635200\n",
            "Epoch 45, CIFAR-10 Batch 5:  Loss:     0.5025 Validation Accuracy: 0.647200\n",
            "Epoch 46, CIFAR-10 Batch 1:  Loss:     0.5751 Validation Accuracy: 0.645800\n",
            "Epoch 46, CIFAR-10 Batch 2:  Loss:     0.5233 Validation Accuracy: 0.645200\n",
            "Epoch 46, CIFAR-10 Batch 3:  Loss:     0.4456 Validation Accuracy: 0.636800\n",
            "Epoch 46, CIFAR-10 Batch 4:  Loss:     0.4628 Validation Accuracy: 0.644600\n",
            "Epoch 46, CIFAR-10 Batch 5:  Loss:     0.4943 Validation Accuracy: 0.647600\n",
            "Epoch 47, CIFAR-10 Batch 1:  Loss:     0.5628 Validation Accuracy: 0.645400\n",
            "Epoch 47, CIFAR-10 Batch 2:  Loss:     0.4633 Validation Accuracy: 0.650800\n",
            "Epoch 47, CIFAR-10 Batch 3:  Loss:     0.4048 Validation Accuracy: 0.647400\n",
            "Epoch 47, CIFAR-10 Batch 4:  Loss:     0.4417 Validation Accuracy: 0.633200\n",
            "Epoch 47, CIFAR-10 Batch 5:  Loss:     0.4923 Validation Accuracy: 0.648800\n",
            "Epoch 48, CIFAR-10 Batch 1:  Loss:     0.5658 Validation Accuracy: 0.645200\n",
            "Epoch 48, CIFAR-10 Batch 2:  Loss:     0.4955 Validation Accuracy: 0.648600\n",
            "Epoch 48, CIFAR-10 Batch 3:  Loss:     0.4314 Validation Accuracy: 0.641200\n",
            "Epoch 48, CIFAR-10 Batch 4:  Loss:     0.4567 Validation Accuracy: 0.638800\n",
            "Epoch 48, CIFAR-10 Batch 5:  Loss:     0.4633 Validation Accuracy: 0.644000\n",
            "Epoch 49, CIFAR-10 Batch 1:  Loss:     0.5415 Validation Accuracy: 0.638200\n",
            "Epoch 49, CIFAR-10 Batch 2:  Loss:     0.4699 Validation Accuracy: 0.652800\n",
            "Epoch 49, CIFAR-10 Batch 3:  Loss:     0.3785 Validation Accuracy: 0.650800\n",
            "Epoch 49, CIFAR-10 Batch 4:  Loss:     0.4239 Validation Accuracy: 0.646800\n",
            "Epoch 49, CIFAR-10 Batch 5:  Loss:     0.4744 Validation Accuracy: 0.638800\n",
            "Epoch 50, CIFAR-10 Batch 1:  Loss:     0.5256 Validation Accuracy: 0.647400\n",
            "Epoch 50, CIFAR-10 Batch 2:  Loss:     0.4581 Validation Accuracy: 0.647600\n",
            "Epoch 50, CIFAR-10 Batch 3:  Loss:     0.3892 Validation Accuracy: 0.645400\n",
            "Epoch 50, CIFAR-10 Batch 4:  Loss:     0.4222 Validation Accuracy: 0.636600\n",
            "Epoch 50, CIFAR-10 Batch 5:  Loss:     0.5207 Validation Accuracy: 0.648000\n"
          ],
          "name": "stdout"
        }
      ]
    },
    {
      "cell_type": "markdown",
      "metadata": {
        "deletable": true,
        "editable": true,
        "id": "ePllEBer5qzj",
        "colab_type": "text"
      },
      "source": [
        "# Checkpoint\n",
        "The model has been saved to disk.\n",
        "## Test Model\n",
        "Test your model against the test dataset.  This will be your final accuracy. You should have an accuracy greater than 50%. If you don't, keep tweaking the model architecture and parameters."
      ]
    },
    {
      "cell_type": "code",
      "metadata": {
        "deletable": true,
        "editable": true,
        "id": "3vUiYsVg5qzk",
        "colab_type": "code",
        "colab": {
          "base_uri": "https://localhost:8080/",
          "height": 441
        },
        "outputId": "dfa5ec22-180e-4782-89e9-0807f7129a16"
      },
      "source": [
        "\"\"\"\n",
        "DON'T MODIFY ANYTHING IN THIS CELL\n",
        "\"\"\"\n",
        "%matplotlib inline\n",
        "%config InlineBackend.figure_format = 'retina'\n",
        "\n",
        "import tensorflow as tf\n",
        "import pickle\n",
        "import helper\n",
        "import random\n",
        "\n",
        "# Set batch size if not already set\n",
        "try:\n",
        "    if batch_size:\n",
        "        pass\n",
        "except NameError:\n",
        "    batch_size = 64\n",
        "\n",
        "save_model_path = './image_classification'\n",
        "n_samples = 4\n",
        "top_n_predictions = 3\n",
        "\n",
        "def test_model():\n",
        "    \"\"\"\n",
        "    Test the saved model against the test dataset\n",
        "    \"\"\"\n",
        "\n",
        "    test_features, test_labels = pickle.load(open('preprocess_test.p', mode='rb'))\n",
        "    loaded_graph = tf.Graph()\n",
        "\n",
        "    with tf.Session(graph=loaded_graph) as sess:\n",
        "        # Load model\n",
        "        loader = tf.train.import_meta_graph(save_model_path + '.meta')\n",
        "        loader.restore(sess, save_model_path)\n",
        "\n",
        "        # Get Tensors from loaded model\n",
        "        loaded_x = loaded_graph.get_tensor_by_name('x:0')\n",
        "        loaded_y = loaded_graph.get_tensor_by_name('y:0')\n",
        "        loaded_keep_prob = loaded_graph.get_tensor_by_name('keep_prob:0')\n",
        "        loaded_logits = loaded_graph.get_tensor_by_name('logits:0')\n",
        "        loaded_acc = loaded_graph.get_tensor_by_name('accuracy:0')\n",
        "        \n",
        "        # Get accuracy in batches for memory limitations\n",
        "        test_batch_acc_total = 0\n",
        "        test_batch_count = 0\n",
        "        \n",
        "        for test_feature_batch, test_label_batch in problem_helper.batch_features_labels(test_features, test_labels, batch_size):\n",
        "            test_batch_acc_total += sess.run(\n",
        "                loaded_acc,\n",
        "                feed_dict={loaded_x: test_feature_batch, loaded_y: test_label_batch, loaded_keep_prob: 1.0})\n",
        "            test_batch_count += 1\n",
        "\n",
        "        print('Testing Accuracy: {}\\n'.format(test_batch_acc_total/test_batch_count))\n",
        "\n",
        "        # Print Random Samples\n",
        "        random_test_features, random_test_labels = tuple(zip(*random.sample(list(zip(test_features, test_labels)), n_samples)))\n",
        "        random_test_predictions = sess.run(\n",
        "            tf.nn.top_k(tf.nn.softmax(loaded_logits), top_n_predictions),\n",
        "            feed_dict={loaded_x: random_test_features, loaded_y: random_test_labels, loaded_keep_prob: 1.0})\n",
        "        problem_helper.display_image_predictions(random_test_features, random_test_labels, random_test_predictions)\n",
        "\n",
        "\n",
        "test_model()"
      ],
      "execution_count": 52,
      "outputs": [
        {
          "output_type": "stream",
          "text": [
            "W0729 09:08:28.531807 140684936755072 deprecation.py:323] From /usr/local/lib/python3.6/dist-packages/tensorflow/python/training/saver.py:1276: checkpoint_exists (from tensorflow.python.training.checkpoint_management) is deprecated and will be removed in a future version.\n",
            "Instructions for updating:\n",
            "Use standard file APIs to check for files with this prefix.\n"
          ],
          "name": "stderr"
        },
        {
          "output_type": "stream",
          "text": [
            "Testing Accuracy: 0.6461629746835443\n",
            "\n"
          ],
          "name": "stdout"
        },
        {
          "output_type": "display_data",
          "data": {
            "image/png": "[encoded data removed]",
            "text/plain": [
              "<Figure size 432x288 with 8 Axes>"
            ]
          },
          "metadata": {
            "tags": [],
            "image/png": {
              "width": 355,
              "height": 319
            }
          }
        }
      ]
    },
    {
      "cell_type": "markdown",
      "metadata": {
        "deletable": true,
        "editable": true,
        "id": "fl1MPqx85qzm",
        "colab_type": "text"
      },
      "source": [
        "## Why 50-80% Accuracy?\n",
        "You might be wondering why you can't get an accuracy any higher. First things first, 50% isn't bad for a simple CNN.  Pure guessing would get you 10% accuracy. However, you might notice people are getting scores [well above 80%](http://rodrigob.github.io/are_we_there_yet/build/classification_datasets_results.html#43494641522d3130).  That's because we haven't taught you all there is to know about neural networks. We still need to cover a few more techniques.\n",
        "## Submitting This Project\n",
        "When submitting this project, make sure to run all the cells before saving the notebook.  Save the notebook file as \"dlnd_image_classification.ipynb\" and save it as a HTML file under \"File\" -> \"Download as\".  Include the \"helper.py\" and \"problem_unittests.py\" files in your submission."
      ]
    }
  ]
}